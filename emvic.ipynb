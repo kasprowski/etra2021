{
 "cells": [
  {
   "cell_type": "markdown",
   "metadata": {},
   "source": [
    "### Deep Learning in the Eye Tracking World \n",
    "#### the tutorial presented during ETRA 2021 (https://etra.acm.org/2021/acceptedtutorials.html)\n",
    "#### the code downloaded from: https://github.com/kasprowski/etra2021\n",
    "@author: pawel@kasprowski.pl\n"
   ]
  },
  {
   "cell_type": "markdown",
   "metadata": {},
   "source": [
    "# Classification of the EMVIC dataset\n",
    "The example presents the simplest usage of the Keras/Tensorflow package to create and use a neural network.\n",
    "It also uses some methods from sklearn package."
   ]
  },
  {
   "cell_type": "markdown",
   "metadata": {},
   "source": [
    "## Import packages"
   ]
  },
  {
   "cell_type": "code",
   "execution_count": 1,
   "metadata": {},
   "outputs": [],
   "source": [
    "import pandas as pd\n",
    "import sklearn\n",
    "import numpy as np\n",
    "from collections import Counter\n",
    "from tensorflow.keras.models import Sequential\n",
    "from tensorflow.keras.layers import Dense\n",
    "import tensorflow as tf\n",
    "from sklearn.metrics import classification_report, confusion_matrix, accuracy_score, cohen_kappa_score\n",
    "import matplotlib.pyplot as plt"
   ]
  },
  {
   "cell_type": "markdown",
   "metadata": {},
   "source": [
    "## Download the dataset"
   ]
  },
  {
   "cell_type": "code",
   "execution_count": 2,
   "metadata": {},
   "outputs": [
    {
     "name": "stdout",
     "output_type": "stream",
     "text": [
      "Downloaded to emvic.data\n"
     ]
    }
   ],
   "source": [
    "import requests\n",
    "r = requests.get(\"https://raw.githubusercontent.com/kasprowski/etra2021/main/emvic/emvic.data\", allow_redirects=True)\n",
    "open('emvic.data', 'wb').write(r.content)\n",
    "print(\"Downloaded to emvic.data\")"
   ]
  },
  {
   "cell_type": "markdown",
   "metadata": {},
   "source": [
    "## Load data and extract samples and labels"
   ]
  },
  {
   "cell_type": "code",
   "execution_count": 3,
   "metadata": {},
   "outputs": [
    {
     "name": "stdout",
     "output_type": "stream",
     "text": [
      "Labels distribution: Counter({'a25': 105, 'a37': 63, 'a40': 52, 'a32': 50, 'a41': 39, 'a42': 38, 'a29': 36, 'a28': 33})\n",
      "Samples shape (416, 8192)\n",
      "Labels shape (416,)\n"
     ]
    }
   ],
   "source": [
    "trainData = pd.read_csv('emvic.data',sep='\\t',header=None)\n",
    "# columns from 4097 to the end contain features (see http://www.kasprowski.pl/emvic2012 for details)\n",
    "samples = np.array(trainData.values[:,4097:],dtype=float)\n",
    "# class is in the first column\n",
    "labels = trainData.values[:,0]\n",
    "print(\"Labels distribution:\",Counter(labels))\n",
    "print(\"Samples shape\",samples.shape)\n",
    "print(\"Labels shape\",labels.shape)"
   ]
  },
  {
   "cell_type": "markdown",
   "metadata": {},
   "source": [
    "## Convert labels to one-hot"
   ]
  },
  {
   "cell_type": "code",
   "execution_count": 4,
   "metadata": {},
   "outputs": [
    {
     "name": "stdout",
     "output_type": "stream",
     "text": [
      "Number of classes: 8\n",
      "Labels shape: (416, 8)\n"
     ]
    }
   ],
   "source": [
    "from sklearn.preprocessing import LabelBinarizer\n",
    "lb = LabelBinarizer()\n",
    "labels = lb.fit_transform(labels)\n",
    "classesNum = labels.shape[1]\n",
    "print(\"Number of classes:\",classesNum)\n",
    "print(\"Labels shape:\",labels.shape)"
   ]
  },
  {
   "cell_type": "markdown",
   "metadata": {},
   "source": [
    "## Create the model"
   ]
  },
  {
   "cell_type": "code",
   "execution_count": 5,
   "metadata": {},
   "outputs": [
    {
     "name": "stdout",
     "output_type": "stream",
     "text": [
      "Model: \"sequential\"\n",
      "_________________________________________________________________\n",
      "Layer (type)                 Output Shape              Param #   \n",
      "=================================================================\n",
      "dense (Dense)                (None, 150)               1228950   \n",
      "_________________________________________________________________\n",
      "dense_1 (Dense)              (None, 150)               22650     \n",
      "_________________________________________________________________\n",
      "dense_2 (Dense)              (None, 150)               22650     \n",
      "_________________________________________________________________\n",
      "dense_3 (Dense)              (None, 150)               22650     \n",
      "_________________________________________________________________\n",
      "dense_4 (Dense)              (None, 8)                 1208      \n",
      "=================================================================\n",
      "Total params: 1,298,108\n",
      "Trainable params: 1,298,108\n",
      "Non-trainable params: 0\n",
      "_________________________________________________________________\n"
     ]
    }
   ],
   "source": [
    "model = Sequential()\n",
    "model.add(Dense(150, input_dim=samples.shape[1], activation='sigmoid'))\n",
    "model.add(Dense(150, activation='sigmoid'))\n",
    "model.add(Dense(150, activation='sigmoid'))\n",
    "model.add(Dense(150, activation='sigmoid'))\n",
    "model.add(Dense(classesNum, activation='softmax'))\n",
    "\n",
    "model.compile(loss='categorical_crossentropy', optimizer=\"adam\",metrics=['accuracy'])\n",
    "model.summary()"
   ]
  },
  {
   "cell_type": "markdown",
   "metadata": {},
   "source": [
    "## Divide into training and test sets"
   ]
  },
  {
   "cell_type": "code",
   "execution_count": 6,
   "metadata": {},
   "outputs": [],
   "source": [
    "# train-test split\n",
    "import sklearn.model_selection\n",
    "(trainSamples, testSamples, trainLabels, testLabels) = sklearn.model_selection.train_test_split(samples, labels, random_state=30\n",
    "    , stratify=labels\n",
    "    )"
   ]
  },
  {
   "cell_type": "markdown",
   "metadata": {},
   "source": [
    "## Train the model"
   ]
  },
  {
   "cell_type": "code",
   "execution_count": 7,
   "metadata": {},
   "outputs": [
    {
     "name": "stdout",
     "output_type": "stream",
     "text": [
      "Epoch 1/100\n",
      "10/10 [==============================] - 0s 22ms/step - loss: 2.1116 - accuracy: 0.2083 - val_loss: 2.0105 - val_accuracy: 0.2500\n",
      "Epoch 2/100\n",
      "10/10 [==============================] - 0s 10ms/step - loss: 2.0348 - accuracy: 0.2660 - val_loss: 2.0012 - val_accuracy: 0.2500\n",
      "Epoch 3/100\n",
      "10/10 [==============================] - 0s 8ms/step - loss: 2.0061 - accuracy: 0.2532 - val_loss: 1.9932 - val_accuracy: 0.2500\n",
      "Epoch 4/100\n",
      "10/10 [==============================] - 0s 11ms/step - loss: 1.9937 - accuracy: 0.2532 - val_loss: 1.9764 - val_accuracy: 0.2500\n",
      "Epoch 5/100\n",
      "10/10 [==============================] - 0s 11ms/step - loss: 1.9798 - accuracy: 0.2532 - val_loss: 1.9563 - val_accuracy: 0.2500\n",
      "Epoch 6/100\n",
      "10/10 [==============================] - 0s 10ms/step - loss: 1.9652 - accuracy: 0.2532 - val_loss: 1.9318 - val_accuracy: 0.2500\n",
      "Epoch 7/100\n",
      "10/10 [==============================] - 0s 10ms/step - loss: 1.9313 - accuracy: 0.2532 - val_loss: 1.8870 - val_accuracy: 0.2500\n",
      "Epoch 8/100\n",
      "10/10 [==============================] - 0s 9ms/step - loss: 1.8922 - accuracy: 0.3141 - val_loss: 1.8235 - val_accuracy: 0.3077\n",
      "Epoch 9/100\n",
      "10/10 [==============================] - 0s 9ms/step - loss: 1.8163 - accuracy: 0.3237 - val_loss: 1.7414 - val_accuracy: 0.3558\n",
      "Epoch 10/100\n",
      "10/10 [==============================] - 0s 9ms/step - loss: 1.7564 - accuracy: 0.3462 - val_loss: 1.6622 - val_accuracy: 0.3750\n",
      "Epoch 11/100\n",
      "10/10 [==============================] - 0s 9ms/step - loss: 1.6839 - accuracy: 0.3590 - val_loss: 1.6059 - val_accuracy: 0.3846\n",
      "Epoch 12/100\n",
      "10/10 [==============================] - 0s 10ms/step - loss: 1.6469 - accuracy: 0.3910 - val_loss: 1.5721 - val_accuracy: 0.4327\n",
      "Epoch 13/100\n",
      "10/10 [==============================] - 0s 10ms/step - loss: 1.6262 - accuracy: 0.4103 - val_loss: 1.5675 - val_accuracy: 0.4038\n",
      "Epoch 14/100\n",
      "10/10 [==============================] - 0s 11ms/step - loss: 1.6066 - accuracy: 0.3942 - val_loss: 1.5195 - val_accuracy: 0.4519\n",
      "Epoch 15/100\n",
      "10/10 [==============================] - 0s 10ms/step - loss: 1.5852 - accuracy: 0.4231 - val_loss: 1.5077 - val_accuracy: 0.4615\n",
      "Epoch 16/100\n",
      "10/10 [==============================] - 0s 9ms/step - loss: 1.5613 - accuracy: 0.4167 - val_loss: 1.4726 - val_accuracy: 0.4327\n",
      "Epoch 17/100\n",
      "10/10 [==============================] - 0s 9ms/step - loss: 1.5265 - accuracy: 0.4199 - val_loss: 1.4606 - val_accuracy: 0.4712\n",
      "Epoch 18/100\n",
      "10/10 [==============================] - 0s 10ms/step - loss: 1.5034 - accuracy: 0.4455 - val_loss: 1.4488 - val_accuracy: 0.4423\n",
      "Epoch 19/100\n",
      "10/10 [==============================] - 0s 10ms/step - loss: 1.4782 - accuracy: 0.4423 - val_loss: 1.4339 - val_accuracy: 0.4231\n",
      "Epoch 20/100\n",
      "10/10 [==============================] - 0s 10ms/step - loss: 1.4552 - accuracy: 0.4519 - val_loss: 1.4360 - val_accuracy: 0.4615\n",
      "Epoch 21/100\n",
      "10/10 [==============================] - 0s 11ms/step - loss: 1.4265 - accuracy: 0.4327 - val_loss: 1.4100 - val_accuracy: 0.4904\n",
      "Epoch 22/100\n",
      "10/10 [==============================] - 0s 9ms/step - loss: 1.4167 - accuracy: 0.4840 - val_loss: 1.4015 - val_accuracy: 0.4904\n",
      "Epoch 23/100\n",
      "10/10 [==============================] - 0s 9ms/step - loss: 1.3966 - accuracy: 0.4808 - val_loss: 1.3760 - val_accuracy: 0.5000\n",
      "Epoch 24/100\n",
      "10/10 [==============================] - 0s 11ms/step - loss: 1.3751 - accuracy: 0.5032 - val_loss: 1.3440 - val_accuracy: 0.4904\n",
      "Epoch 25/100\n",
      "10/10 [==============================] - 0s 10ms/step - loss: 1.3892 - accuracy: 0.5000 - val_loss: 1.3562 - val_accuracy: 0.4808\n",
      "Epoch 26/100\n",
      "10/10 [==============================] - 0s 9ms/step - loss: 1.3530 - accuracy: 0.5064 - val_loss: 1.3388 - val_accuracy: 0.5288\n",
      "Epoch 27/100\n",
      "10/10 [==============================] - 0s 7ms/step - loss: 1.3528 - accuracy: 0.5032 - val_loss: 1.3093 - val_accuracy: 0.4808\n",
      "Epoch 28/100\n",
      "10/10 [==============================] - 0s 8ms/step - loss: 1.3134 - accuracy: 0.5256 - val_loss: 1.2836 - val_accuracy: 0.5000\n",
      "Epoch 29/100\n",
      "10/10 [==============================] - 0s 8ms/step - loss: 1.2922 - accuracy: 0.5192 - val_loss: 1.2729 - val_accuracy: 0.5192\n",
      "Epoch 30/100\n",
      "10/10 [==============================] - 0s 8ms/step - loss: 1.2930 - accuracy: 0.5385 - val_loss: 1.2850 - val_accuracy: 0.5000\n",
      "Epoch 31/100\n",
      "10/10 [==============================] - 0s 10ms/step - loss: 1.2971 - accuracy: 0.5064 - val_loss: 1.2765 - val_accuracy: 0.5385\n",
      "Epoch 32/100\n",
      "10/10 [==============================] - 0s 11ms/step - loss: 1.2659 - accuracy: 0.5288 - val_loss: 1.2530 - val_accuracy: 0.5385\n",
      "Epoch 33/100\n",
      "10/10 [==============================] - 0s 10ms/step - loss: 1.2664 - accuracy: 0.5064 - val_loss: 1.2501 - val_accuracy: 0.5481\n",
      "Epoch 34/100\n",
      "10/10 [==============================] - 0s 9ms/step - loss: 1.2568 - accuracy: 0.5032 - val_loss: 1.2610 - val_accuracy: 0.5577\n",
      "Epoch 35/100\n",
      "10/10 [==============================] - 0s 9ms/step - loss: 1.2345 - accuracy: 0.5417 - val_loss: 1.2537 - val_accuracy: 0.5000\n",
      "Epoch 36/100\n",
      "10/10 [==============================] - 0s 9ms/step - loss: 1.2464 - accuracy: 0.5385 - val_loss: 1.3024 - val_accuracy: 0.5288\n",
      "Epoch 37/100\n",
      "10/10 [==============================] - 0s 9ms/step - loss: 1.2532 - accuracy: 0.5577 - val_loss: 1.2955 - val_accuracy: 0.4712\n",
      "Epoch 38/100\n",
      "10/10 [==============================] - 0s 9ms/step - loss: 1.2445 - accuracy: 0.5224 - val_loss: 1.2527 - val_accuracy: 0.5865\n",
      "Epoch 39/100\n",
      "10/10 [==============================] - 0s 9ms/step - loss: 1.2261 - accuracy: 0.5417 - val_loss: 1.2226 - val_accuracy: 0.5385\n",
      "Epoch 40/100\n",
      "10/10 [==============================] - 0s 10ms/step - loss: 1.1963 - accuracy: 0.5449 - val_loss: 1.2292 - val_accuracy: 0.5577\n",
      "Epoch 41/100\n",
      "10/10 [==============================] - 0s 10ms/step - loss: 1.1804 - accuracy: 0.5641 - val_loss: 1.2216 - val_accuracy: 0.5288\n",
      "Epoch 42/100\n",
      "10/10 [==============================] - 0s 8ms/step - loss: 1.1716 - accuracy: 0.5833 - val_loss: 1.2199 - val_accuracy: 0.5577\n",
      "Epoch 43/100\n",
      "10/10 [==============================] - 0s 9ms/step - loss: 1.1662 - accuracy: 0.5673 - val_loss: 1.2221 - val_accuracy: 0.5385\n",
      "Epoch 44/100\n",
      "10/10 [==============================] - 0s 10ms/step - loss: 1.1761 - accuracy: 0.5481 - val_loss: 1.2138 - val_accuracy: 0.5577\n",
      "Epoch 45/100\n",
      "10/10 [==============================] - 0s 10ms/step - loss: 1.1464 - accuracy: 0.5833 - val_loss: 1.2097 - val_accuracy: 0.5385\n",
      "Epoch 46/100\n",
      "10/10 [==============================] - 0s 10ms/step - loss: 1.1597 - accuracy: 0.5545 - val_loss: 1.2355 - val_accuracy: 0.5288\n",
      "Epoch 47/100\n",
      "10/10 [==============================] - 0s 10ms/step - loss: 1.1394 - accuracy: 0.5673 - val_loss: 1.2070 - val_accuracy: 0.5481\n",
      "Epoch 48/100\n",
      "10/10 [==============================] - 0s 9ms/step - loss: 1.1343 - accuracy: 0.5801 - val_loss: 1.2096 - val_accuracy: 0.5673\n",
      "Epoch 49/100\n",
      "10/10 [==============================] - 0s 10ms/step - loss: 1.1303 - accuracy: 0.5962 - val_loss: 1.2098 - val_accuracy: 0.5385\n",
      "Epoch 50/100\n",
      "10/10 [==============================] - 0s 11ms/step - loss: 1.1112 - accuracy: 0.5833 - val_loss: 1.2074 - val_accuracy: 0.5865\n",
      "Epoch 51/100\n",
      "10/10 [==============================] - 0s 10ms/step - loss: 1.1160 - accuracy: 0.5994 - val_loss: 1.2181 - val_accuracy: 0.5577\n",
      "Epoch 52/100\n",
      "10/10 [==============================] - 0s 10ms/step - loss: 1.1101 - accuracy: 0.5897 - val_loss: 1.2183 - val_accuracy: 0.5385\n",
      "Epoch 53/100\n",
      "10/10 [==============================] - 0s 10ms/step - loss: 1.1085 - accuracy: 0.5897 - val_loss: 1.2272 - val_accuracy: 0.5673\n",
      "Epoch 54/100\n",
      "10/10 [==============================] - 0s 11ms/step - loss: 1.1018 - accuracy: 0.5865 - val_loss: 1.2240 - val_accuracy: 0.5577\n",
      "Epoch 55/100\n",
      "10/10 [==============================] - 0s 10ms/step - loss: 1.0927 - accuracy: 0.6090 - val_loss: 1.1986 - val_accuracy: 0.5577\n",
      "Epoch 56/100\n",
      "10/10 [==============================] - 0s 9ms/step - loss: 1.0778 - accuracy: 0.6026 - val_loss: 1.2124 - val_accuracy: 0.5673\n",
      "Epoch 57/100\n",
      "10/10 [==============================] - 0s 9ms/step - loss: 1.0857 - accuracy: 0.6026 - val_loss: 1.2048 - val_accuracy: 0.6058\n",
      "Epoch 58/100\n",
      "10/10 [==============================] - 0s 9ms/step - loss: 1.0779 - accuracy: 0.6122 - val_loss: 1.2362 - val_accuracy: 0.5577\n",
      "Epoch 59/100\n",
      "10/10 [==============================] - 0s 10ms/step - loss: 1.0700 - accuracy: 0.5994 - val_loss: 1.2416 - val_accuracy: 0.5385\n",
      "Epoch 60/100\n",
      "10/10 [==============================] - 0s 10ms/step - loss: 1.0807 - accuracy: 0.5801 - val_loss: 1.2046 - val_accuracy: 0.5769\n",
      "Epoch 61/100\n",
      "10/10 [==============================] - 0s 9ms/step - loss: 1.0582 - accuracy: 0.6090 - val_loss: 1.2050 - val_accuracy: 0.5673\n",
      "Epoch 62/100\n",
      "10/10 [==============================] - 0s 9ms/step - loss: 1.0483 - accuracy: 0.6090 - val_loss: 1.1932 - val_accuracy: 0.5865\n",
      "Epoch 63/100\n",
      "10/10 [==============================] - 0s 9ms/step - loss: 1.0400 - accuracy: 0.6218 - val_loss: 1.2001 - val_accuracy: 0.5673\n",
      "Epoch 64/100\n",
      "10/10 [==============================] - 0s 10ms/step - loss: 1.0473 - accuracy: 0.6058 - val_loss: 1.2020 - val_accuracy: 0.6154\n",
      "Epoch 65/100\n",
      "10/10 [==============================] - 0s 9ms/step - loss: 1.0523 - accuracy: 0.6026 - val_loss: 1.1972 - val_accuracy: 0.5962\n",
      "Epoch 66/100\n",
      "10/10 [==============================] - 0s 9ms/step - loss: 1.0460 - accuracy: 0.6250 - val_loss: 1.2090 - val_accuracy: 0.5481\n",
      "Epoch 67/100\n",
      "10/10 [==============================] - 0s 9ms/step - loss: 1.0183 - accuracy: 0.6282 - val_loss: 1.2117 - val_accuracy: 0.5769\n",
      "Epoch 68/100\n",
      "10/10 [==============================] - 0s 11ms/step - loss: 1.0235 - accuracy: 0.6282 - val_loss: 1.2023 - val_accuracy: 0.6058\n",
      "Epoch 69/100\n",
      "10/10 [==============================] - 0s 12ms/step - loss: 1.0219 - accuracy: 0.6218 - val_loss: 1.2136 - val_accuracy: 0.5192\n",
      "Epoch 70/100\n",
      "10/10 [==============================] - 0s 9ms/step - loss: 1.0153 - accuracy: 0.6186 - val_loss: 1.2005 - val_accuracy: 0.5769\n",
      "Epoch 71/100\n",
      "10/10 [==============================] - 0s 9ms/step - loss: 1.0061 - accuracy: 0.6090 - val_loss: 1.2104 - val_accuracy: 0.5769\n",
      "Epoch 72/100\n",
      "10/10 [==============================] - 0s 9ms/step - loss: 0.9957 - accuracy: 0.6250 - val_loss: 1.1959 - val_accuracy: 0.5962\n",
      "Epoch 73/100\n",
      "10/10 [==============================] - 0s 10ms/step - loss: 1.0008 - accuracy: 0.6378 - val_loss: 1.1988 - val_accuracy: 0.5769\n",
      "Epoch 74/100\n",
      "10/10 [==============================] - 0s 9ms/step - loss: 0.9880 - accuracy: 0.6186 - val_loss: 1.2127 - val_accuracy: 0.5577\n",
      "Epoch 75/100\n",
      "10/10 [==============================] - 0s 9ms/step - loss: 0.9859 - accuracy: 0.6378 - val_loss: 1.1998 - val_accuracy: 0.6154\n",
      "Epoch 76/100\n",
      "10/10 [==============================] - 0s 9ms/step - loss: 0.9700 - accuracy: 0.6250 - val_loss: 1.2133 - val_accuracy: 0.5577\n",
      "Epoch 77/100\n",
      "10/10 [==============================] - 0s 10ms/step - loss: 0.9723 - accuracy: 0.6378 - val_loss: 1.1952 - val_accuracy: 0.5865\n",
      "Epoch 78/100\n",
      "10/10 [==============================] - 0s 9ms/step - loss: 0.9580 - accuracy: 0.6378 - val_loss: 1.2231 - val_accuracy: 0.5577\n",
      "Epoch 79/100\n",
      "10/10 [==============================] - 0s 9ms/step - loss: 0.9654 - accuracy: 0.6635 - val_loss: 1.2045 - val_accuracy: 0.6058\n",
      "Epoch 80/100\n",
      "10/10 [==============================] - 0s 9ms/step - loss: 0.9602 - accuracy: 0.6410 - val_loss: 1.2132 - val_accuracy: 0.5673\n",
      "Epoch 81/100\n",
      "10/10 [==============================] - 0s 9ms/step - loss: 0.9506 - accuracy: 0.6474 - val_loss: 1.1961 - val_accuracy: 0.5865\n",
      "Epoch 82/100\n",
      "10/10 [==============================] - 0s 10ms/step - loss: 0.9403 - accuracy: 0.6442 - val_loss: 1.2077 - val_accuracy: 0.5481\n",
      "Epoch 83/100\n",
      "10/10 [==============================] - 0s 10ms/step - loss: 0.9350 - accuracy: 0.6410 - val_loss: 1.1929 - val_accuracy: 0.5962\n",
      "Epoch 84/100\n",
      "10/10 [==============================] - 0s 10ms/step - loss: 0.9319 - accuracy: 0.6538 - val_loss: 1.1899 - val_accuracy: 0.6058\n",
      "Epoch 85/100\n",
      "10/10 [==============================] - 0s 10ms/step - loss: 0.9269 - accuracy: 0.6506 - val_loss: 1.2172 - val_accuracy: 0.5865\n",
      "Epoch 86/100\n",
      "10/10 [==============================] - 0s 9ms/step - loss: 0.9314 - accuracy: 0.6474 - val_loss: 1.2151 - val_accuracy: 0.5769\n",
      "Epoch 87/100\n",
      "10/10 [==============================] - 0s 10ms/step - loss: 0.9323 - accuracy: 0.6442 - val_loss: 1.2149 - val_accuracy: 0.5769\n",
      "Epoch 88/100\n",
      "10/10 [==============================] - 0s 9ms/step - loss: 0.9171 - accuracy: 0.6699 - val_loss: 1.2092 - val_accuracy: 0.5865\n",
      "Epoch 89/100\n",
      "10/10 [==============================] - 0s 9ms/step - loss: 0.9239 - accuracy: 0.6506 - val_loss: 1.1983 - val_accuracy: 0.5481\n",
      "Epoch 90/100\n",
      "10/10 [==============================] - 0s 9ms/step - loss: 0.9139 - accuracy: 0.6859 - val_loss: 1.2075 - val_accuracy: 0.5962\n",
      "Epoch 91/100\n",
      "10/10 [==============================] - 0s 9ms/step - loss: 0.9079 - accuracy: 0.6538 - val_loss: 1.2468 - val_accuracy: 0.5769\n",
      "Epoch 92/100\n",
      "10/10 [==============================] - 0s 10ms/step - loss: 0.8932 - accuracy: 0.6763 - val_loss: 1.1977 - val_accuracy: 0.5673\n",
      "Epoch 93/100\n",
      "10/10 [==============================] - 0s 10ms/step - loss: 0.8931 - accuracy: 0.6571 - val_loss: 1.2382 - val_accuracy: 0.5385\n",
      "Epoch 94/100\n",
      "10/10 [==============================] - 0s 9ms/step - loss: 0.8885 - accuracy: 0.6763 - val_loss: 1.2003 - val_accuracy: 0.5962\n",
      "Epoch 95/100\n",
      "10/10 [==============================] - 0s 9ms/step - loss: 0.8740 - accuracy: 0.6827 - val_loss: 1.2135 - val_accuracy: 0.5769\n",
      "Epoch 96/100\n",
      "10/10 [==============================] - 0s 9ms/step - loss: 0.8611 - accuracy: 0.6891 - val_loss: 1.2121 - val_accuracy: 0.5673\n",
      "Epoch 97/100\n",
      "10/10 [==============================] - 0s 9ms/step - loss: 0.8635 - accuracy: 0.6859 - val_loss: 1.2218 - val_accuracy: 0.5865\n",
      "Epoch 98/100\n",
      "10/10 [==============================] - 0s 9ms/step - loss: 0.8542 - accuracy: 0.6891 - val_loss: 1.1941 - val_accuracy: 0.5769\n",
      "Epoch 99/100\n",
      "10/10 [==============================] - 0s 9ms/step - loss: 0.8515 - accuracy: 0.6923 - val_loss: 1.2229 - val_accuracy: 0.5769\n",
      "Epoch 100/100\n",
      "10/10 [==============================] - 0s 10ms/step - loss: 0.8408 - accuracy: 0.6987 - val_loss: 1.1946 - val_accuracy: 0.5769\n"
     ]
    }
   ],
   "source": [
    "H = model.fit(trainSamples, trainLabels,epochs=100,validation_data=(testSamples,testLabels))    "
   ]
  },
  {
   "cell_type": "markdown",
   "metadata": {},
   "source": [
    "## Check training history "
   ]
  },
  {
   "cell_type": "code",
   "execution_count": 8,
   "metadata": {},
   "outputs": [
    {
     "data": {
      "image/png": "[encoded data removed]",
      "text/plain": [
       "<Figure size 432x288 with 1 Axes>"
      ]
     },
     "metadata": {
      "needs_background": "light"
     },
     "output_type": "display_data"
    }
   ],
   "source": [
    "N = np.arange(0, 100)\n",
    "\n",
    "plt.plot(N, H.history[\"loss\"], label=\"train_loss\")\n",
    "plt.plot(N, H.history[\"accuracy\"], label=\"train_acc\")\n",
    "plt.plot(N, H.history[\"val_loss\"], label=\"val_loss\")\n",
    "plt.plot(N, H.history[\"val_accuracy\"], label=\"val_acc\")\n",
    "\n",
    "plt.title(\"Training Loss and Accuracy\")\n",
    "plt.xlabel(\"Epoch #\")\n",
    "plt.ylabel(\"Loss/Accuracy\")\n",
    "plt.legend()\n",
    "plt.show()\n"
   ]
  },
  {
   "cell_type": "markdown",
   "metadata": {},
   "source": [
    "## Check error for the training set"
   ]
  },
  {
   "cell_type": "code",
   "execution_count": 9,
   "metadata": {},
   "outputs": [
    {
     "name": "stdout",
     "output_type": "stream",
     "text": [
      "[[77  0  0  2  0  0  0  0]\n",
      " [ 0 13  3  0  6  0  2  1]\n",
      " [ 0  1 26  0  0  0  0  0]\n",
      " [ 2  0  3 19  6  1  1  5]\n",
      " [ 0  2  4  5 32  0  4  0]\n",
      " [ 2  2  0  0  0 35  0  0]\n",
      " [ 3  3  2  3  7  0 11  0]\n",
      " [ 1  0  3  4  9  0  1 11]]\n",
      "              precision    recall  f1-score   support\n",
      "\n",
      "           0       0.91      0.97      0.94        79\n",
      "           1       0.62      0.52      0.57        25\n",
      "           2       0.63      0.96      0.76        27\n",
      "           3       0.58      0.51      0.54        37\n",
      "           4       0.53      0.68      0.60        47\n",
      "           5       0.97      0.90      0.93        39\n",
      "           6       0.58      0.38      0.46        29\n",
      "           7       0.65      0.38      0.48        29\n",
      "\n",
      "    accuracy                           0.72       312\n",
      "   macro avg       0.68      0.66      0.66       312\n",
      "weighted avg       0.72      0.72      0.71       312\n",
      "\n",
      "Cohen's Kappa: 0.6672322683860958\n",
      "Accuracy:  0.717948717948718\n"
     ]
    }
   ],
   "source": [
    "trainResults = model.predict(trainSamples)\n",
    "\n",
    "print(confusion_matrix(trainLabels.argmax(axis=1), trainResults.argmax(axis=1)))\n",
    "print(classification_report(trainLabels.argmax(axis=1), trainResults.argmax(axis=1)))\n",
    "print(\"Cohen's Kappa: {}\".format(cohen_kappa_score(trainLabels.argmax(axis=1), trainResults.argmax(axis=1))))\n",
    "print(\"Accuracy: \",accuracy_score(trainLabels.argmax(axis=1), trainResults.argmax(axis=1)))\n"
   ]
  },
  {
   "cell_type": "markdown",
   "metadata": {},
   "source": [
    "## Check error for the test set"
   ]
  },
  {
   "cell_type": "code",
   "execution_count": 10,
   "metadata": {},
   "outputs": [
    {
     "name": "stdout",
     "output_type": "stream",
     "text": [
      "[[24  0  0  1  0  1  0  0]\n",
      " [ 0  4  1  0  3  0  0  0]\n",
      " [ 0  1  6  0  1  0  1  0]\n",
      " [ 1  0  0  6  5  1  0  0]\n",
      " [ 1  0  2  1  8  2  2  0]\n",
      " [ 1  0  0  1  1 10  0  0]\n",
      " [ 1  3  0  1  3  0  1  1]\n",
      " [ 1  0  0  4  2  0  1  1]]\n",
      "              precision    recall  f1-score   support\n",
      "\n",
      "           0       0.83      0.92      0.87        26\n",
      "           1       0.50      0.50      0.50         8\n",
      "           2       0.67      0.67      0.67         9\n",
      "           3       0.43      0.46      0.44        13\n",
      "           4       0.35      0.50      0.41        16\n",
      "           5       0.71      0.77      0.74        13\n",
      "           6       0.20      0.10      0.13        10\n",
      "           7       0.50      0.11      0.18         9\n",
      "\n",
      "    accuracy                           0.58       104\n",
      "   macro avg       0.52      0.50      0.49       104\n",
      "weighted avg       0.56      0.58      0.55       104\n",
      "\n",
      "Cohen's Kappa: 0.4980805089393441\n",
      "Accuracy:  0.5769230769230769\n"
     ]
    }
   ],
   "source": [
    "testResults = model.predict(testSamples)\n",
    "\n",
    "print(confusion_matrix(testLabels.argmax(axis=1), testResults.argmax(axis=1)))\n",
    "print(classification_report(testLabels.argmax(axis=1), testResults.argmax(axis=1)))\n",
    "print(\"Cohen's Kappa: {}\".format(cohen_kappa_score(testLabels.argmax(axis=1), testResults.argmax(axis=1))))\n",
    "print(\"Accuracy: \",accuracy_score(testLabels.argmax(axis=1), testResults.argmax(axis=1)))\n"
   ]
  },
  {
   "cell_type": "markdown",
   "metadata": {},
   "source": [
    "## Using Decision Tree"
   ]
  },
  {
   "cell_type": "code",
   "execution_count": 11,
   "metadata": {},
   "outputs": [
    {
     "name": "stdout",
     "output_type": "stream",
     "text": [
      "[[24  0  0  0  1  1  0  0]\n",
      " [ 2  3  0  0  0  1  2  0]\n",
      " [ 2  1  4  1  1  0  0  0]\n",
      " [ 3  0  0  8  0  0  0  2]\n",
      " [ 1  2  1  4  5  0  0  3]\n",
      " [ 2  1  1  1  3  5  0  0]\n",
      " [ 1  0  1  1  0  0  5  2]\n",
      " [ 0  2  0  1  1  1  1  3]]\n",
      "              precision    recall  f1-score   support\n",
      "\n",
      "           0       0.69      0.92      0.79        26\n",
      "           1       0.33      0.38      0.35         8\n",
      "           2       0.57      0.44      0.50         9\n",
      "           3       0.50      0.62      0.55        13\n",
      "           4       0.45      0.31      0.37        16\n",
      "           5       0.62      0.38      0.48        13\n",
      "           6       0.62      0.50      0.56        10\n",
      "           7       0.30      0.33      0.32         9\n",
      "\n",
      "    accuracy                           0.55       104\n",
      "   macro avg       0.51      0.49      0.49       104\n",
      "weighted avg       0.54      0.55      0.53       104\n",
      "\n",
      "Tree Accuracy: 0.55\n"
     ]
    }
   ],
   "source": [
    "from sklearn.tree import DecisionTreeClassifier\n",
    "treemodel = DecisionTreeClassifier()\n",
    "treemodel.fit(trainSamples, trainLabels)\n",
    "\n",
    "treeResults = treemodel.predict(testSamples)    \n",
    "\n",
    "print(confusion_matrix(testLabels.argmax(axis=1), treeResults.argmax(axis=1)))\n",
    "print(classification_report(testLabels.argmax(axis=1), treeResults.argmax(axis=1)))\n",
    "treeAcc = accuracy_score(testLabels.argmax(axis=1), treeResults.argmax(axis=1)) \n",
    "print(\"Tree Accuracy: {:.2f}\".format(treeAcc))"
   ]
  }
 ],
 "metadata": {
  "kernelspec": {
   "display_name": "Python 3",
   "language": "python",
   "name": "python3"
  },
  "language_info": {
   "codemirror_mode": {
    "name": "ipython",
    "version": 3
   },
   "file_extension": ".py",
   "mimetype": "text/x-python",
   "name": "python",
   "nbconvert_exporter": "python",
   "pygments_lexer": "ipython3",
   "version": "3.8.5"
  }
 },
 "nbformat": 4,
 "nbformat_minor": 4
}
