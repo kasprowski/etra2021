{
 "cells": [
  {
   "cell_type": "markdown",
   "metadata": {},
   "source": [
    "### Deep Learning in the Eye Tracking World \n",
    "#### the tutorial presented during ETRA 2021 (https://etra.acm.org/2021/acceptedtutorials.html)\n",
    "#### the code downloaded from: https://github.com/kasprowski/etra2021\n",
    "@author: pawel@kasprowski.pl\n"
   ]
  },
  {
   "cell_type": "markdown",
   "metadata": {},
   "source": [
    "# Classification of eye tracking data from /data folder into one of four categories\n",
    "\n",
    "The file consists of four parts:\n",
    "1. Loading data\n",
    "2. Extracting sequences\n",
    "3. Decision Tree classification\n",
    "4. CNN classification"
   ]
  },
  {
   "cell_type": "code",
   "execution_count": 1,
   "metadata": {},
   "outputs": [],
   "source": [
    "import os\n",
    "import numpy as np\n",
    "from sklearn.metrics import confusion_matrix, classification_report, accuracy_score, cohen_kappa_score\n",
    "from sklearn.model_selection._split import train_test_split\n",
    "from sklearn.preprocessing import LabelBinarizer\n",
    "from sklearn.tree import DecisionTreeClassifier\n",
    "from tensorflow.keras.layers import Conv1D\n",
    "from tensorflow.keras.layers import Activation, Flatten, Dropout, Dense\n",
    "from tensorflow.keras.models import Sequential\n",
    "from tensorflow.keras.layers import BatchNormalization"
   ]
  },
  {
   "cell_type": "markdown",
   "metadata": {},
   "source": [
    "## Download the dataset"
   ]
  },
  {
   "cell_type": "code",
   "execution_count": 2,
   "metadata": {},
   "outputs": [
    {
     "name": "stdout",
     "output_type": "stream",
     "text": [
      "Downloaded paths.zip\n",
      "Uzipped to /paths directory\n"
     ]
    }
   ],
   "source": [
    "import requests\n",
    "import zipfile\n",
    "r = requests.get(\"http://www.kasprowski.pl/etra2021/paths.zip\", allow_redirects=True)\n",
    "open('paths.zip', 'wb').write(r.content)\n",
    "print(\"Downloaded paths.zip\")\n",
    "with zipfile.ZipFile(\"paths.zip\",\"r\") as zip_ref:\n",
    "    zip_ref.extractall(\"paths\")\n",
    "print(\"Uzipped to /paths directory\")"
   ]
  },
  {
   "cell_type": "markdown",
   "metadata": {},
   "source": [
    "## Load samples from /paths\n",
    "\n",
    "- take only columns 2 and 3\n",
    "- convert position to velocity\n",
    "- label = first two letter in file name"
   ]
  },
  {
   "cell_type": "code",
   "execution_count": 3,
   "metadata": {},
   "outputs": [
    {
     "name": "stdout",
     "output_type": "stream",
     "text": [
      "Loaded 72 samples\n"
     ]
    }
   ],
   "source": [
    "def load_files(indir):\n",
    "    samples = []\n",
    "    names = []\n",
    "    labels = []\n",
    "    for file in os.listdir(indir):\n",
    "        sample = np.genfromtxt(os.path.join(indir, file), delimiter='\\t')\n",
    "        sample = sample[:,2:4] ##omit irrelevant columns\n",
    "        \n",
    "        ## convert position to velocity\n",
    "        vsample = np.zeros((sample.shape[0],sample.shape[1]))\n",
    "        for i in range(1,sample.shape[0]):\n",
    "            vsample[i] = sample[i]-sample[i-1]\n",
    "        sample = vsample    \n",
    "        samples.append(sample)\n",
    "        names.append(file)\n",
    "        labels.append(file[0:3])\n",
    "    samples = np.array(samples,dtype=object)\n",
    "    labels = np.array(labels,dtype=object)\n",
    "    return samples,labels,names\n",
    "    \n",
    "samples,labels,_ = load_files(\"paths\")\n",
    "print(\"Loaded {} samples\".format(samples.shape[0]))"
   ]
  },
  {
   "cell_type": "markdown",
   "metadata": {},
   "source": [
    "## Convert samples into chunks of *sequence_dim* length with lag = *sequence_lag*"
   ]
  },
  {
   "cell_type": "code",
   "execution_count": 4,
   "metadata": {},
   "outputs": [
    {
     "name": "stdout",
     "output_type": "stream",
     "text": [
      "Samples shape before sequencing (72,)\n",
      "Converting to sequences of length 100\n",
      "Samples shape after sequencing: (19535, 100, 2)\n"
     ]
    }
   ],
   "source": [
    "def make_sequences(samples, labels, sequence_dim = 100, sequence_lag = 1, sequence_attributes = 2):\n",
    "    nsamples = []\n",
    "    nlabels = []\n",
    "    for s in range(samples.shape[0]):\n",
    "    #for sample in samples:\n",
    "        sample = samples[s]\n",
    "        for i in range(0,len(sample)-sequence_dim,sequence_lag):\n",
    "            nsample = np.zeros((sequence_dim,sequence_attributes))\n",
    "            for j in range(i,i+sequence_dim):\n",
    "                for k in range(sequence_attributes):\n",
    "                    nsample[j-i,k] = sample[j,k]\n",
    "            nsamples.append(nsample)\n",
    "            nlabels.append(labels[s])\n",
    "        \n",
    "    samples = np.array(nsamples)\n",
    "    labels = np.array(nlabels)\n",
    "    return samples,labels\n",
    "   \n",
    "sequence_dim = 100\n",
    "print(\"Samples shape before sequencing\",samples.shape)\n",
    "\n",
    "print(\"Converting to sequences of length {}\".format(sequence_dim))\n",
    "samples, labels = make_sequences(samples, labels, sequence_dim)\n",
    "print(\"Samples shape after sequencing: {}\".format(samples.shape))\n"
   ]
  },
  {
   "cell_type": "markdown",
   "metadata": {},
   "source": [
    "## Convert labels to one-hot"
   ]
  },
  {
   "cell_type": "code",
   "execution_count": 5,
   "metadata": {},
   "outputs": [],
   "source": [
    "lb = LabelBinarizer()\n",
    "labels = lb.fit_transform(labels)"
   ]
  },
  {
   "cell_type": "markdown",
   "metadata": {},
   "source": [
    "## Decision Tree classification - flatten samples and fit model"
   ]
  },
  {
   "cell_type": "code",
   "execution_count": 6,
   "metadata": {},
   "outputs": [
    {
     "name": "stdout",
     "output_type": "stream",
     "text": [
      "[[  97   71   80  281]\n",
      " [  85  137   98  262]\n",
      " [ 118  129  480  540]\n",
      " [ 308  301  587 1310]]\n",
      "              precision    recall  f1-score   support\n",
      "\n",
      "           0       0.16      0.18      0.17       529\n",
      "           1       0.21      0.24      0.22       582\n",
      "           2       0.39      0.38      0.38      1267\n",
      "           3       0.55      0.52      0.53      2506\n",
      "\n",
      "    accuracy                           0.41      4884\n",
      "   macro avg       0.33      0.33      0.33      4884\n",
      "weighted avg       0.42      0.41      0.42      4884\n",
      "\n",
      "Accuracy Tree: 0.41\n",
      "Cohen's Kappa 0.10\n"
     ]
    }
   ],
   "source": [
    "# flatten samples for Decision Tree\n",
    "flatSamples = samples.reshape(samples.shape[0],-1) #tree!\n",
    "\n",
    "(trainSamples, testSamples, trainLabels, testLabels) = train_test_split(flatSamples, labels, test_size=0.25, random_state=42)\n",
    "model = DecisionTreeClassifier()\n",
    "model.fit(trainSamples, trainLabels)    \n",
    "treeResults = model.predict(testSamples)\n",
    "print(confusion_matrix(testLabels.argmax(axis=1), treeResults.argmax(axis=1)))\n",
    "print(classification_report(testLabels.argmax(axis=1), treeResults.argmax(axis=1)))\n",
    "treeAcc = accuracy_score(testLabels.argmax(axis=1), treeResults.argmax(axis=1)) \n",
    "print(\"Accuracy Tree: {:.2f}\".format(treeAcc))\n",
    "print(\"Cohen's Kappa {:.2f}\".format(cohen_kappa_score(testLabels.argmax(axis=1), treeResults.argmax(axis=1))))"
   ]
  },
  {
   "cell_type": "markdown",
   "metadata": {},
   "source": [
    "## Build CNN 1D model"
   ]
  },
  {
   "cell_type": "code",
   "execution_count": 7,
   "metadata": {},
   "outputs": [
    {
     "name": "stdout",
     "output_type": "stream",
     "text": [
      "inputShape: (100, 2)\n",
      "Model: \"sequential\"\n",
      "_________________________________________________________________\n",
      "Layer (type)                 Output Shape              Param #   \n",
      "=================================================================\n",
      "conv1d (Conv1D)              (None, 100, 32)           672       \n",
      "_________________________________________________________________\n",
      "activation (Activation)      (None, 100, 32)           0         \n",
      "_________________________________________________________________\n",
      "batch_normalization (BatchNo (None, 100, 32)           128       \n",
      "_________________________________________________________________\n",
      "dropout (Dropout)            (None, 100, 32)           0         \n",
      "_________________________________________________________________\n",
      "conv1d_1 (Conv1D)            (None, 100, 64)           20544     \n",
      "_________________________________________________________________\n",
      "activation_1 (Activation)    (None, 100, 64)           0         \n",
      "_________________________________________________________________\n",
      "batch_normalization_1 (Batch (None, 100, 64)           256       \n",
      "_________________________________________________________________\n",
      "dropout_1 (Dropout)          (None, 100, 64)           0         \n",
      "_________________________________________________________________\n",
      "conv1d_2 (Conv1D)            (None, 100, 128)          82048     \n",
      "_________________________________________________________________\n",
      "activation_2 (Activation)    (None, 100, 128)          0         \n",
      "_________________________________________________________________\n",
      "dropout_2 (Dropout)          (None, 100, 128)          0         \n",
      "_________________________________________________________________\n",
      "flatten (Flatten)            (None, 12800)             0         \n",
      "_________________________________________________________________\n",
      "dense (Dense)                (None, 128)               1638528   \n",
      "_________________________________________________________________\n",
      "dense_1 (Dense)              (None, 64)                8256      \n",
      "_________________________________________________________________\n",
      "dense_2 (Dense)              (None, 4)                 260       \n",
      "=================================================================\n",
      "Total params: 1,750,692\n",
      "Trainable params: 1,750,500\n",
      "Non-trainable params: 192\n",
      "_________________________________________________________________\n"
     ]
    }
   ],
   "source": [
    "inputShape = (samples.shape[1],samples.shape[2])\n",
    "print('inputShape:',inputShape)\n",
    "model = Sequential()\n",
    "model.add(Conv1D(32, 10, padding=\"same\",input_shape=inputShape))\n",
    "model.add(Activation(\"relu\"))\n",
    "model.add(BatchNormalization())\n",
    "model.add(Dropout(0.2))\n",
    "    \n",
    "model.add(Conv1D(64, 10, padding=\"same\"))\n",
    "model.add(Activation(\"relu\"))\n",
    "model.add(BatchNormalization())\n",
    "model.add(Dropout(0.2))\n",
    "model.add(Conv1D(128, 10, padding=\"same\"))\n",
    "model.add(Activation(\"relu\"))\n",
    "model.add(Dropout(0.2))\n",
    "model.add(Flatten(input_shape=inputShape))\n",
    "model.add(Dense(128, activation='sigmoid'))\n",
    "model.add(Dense(64, activation='sigmoid'))\n",
    "model.add(Dense(labels.shape[1], activation='softmax'))\n",
    "model.summary()"
   ]
  },
  {
   "cell_type": "markdown",
   "metadata": {},
   "source": [
    "## Classify using the CNN Model"
   ]
  },
  {
   "cell_type": "code",
   "execution_count": 8,
   "metadata": {},
   "outputs": [
    {
     "name": "stdout",
     "output_type": "stream",
     "text": [
      "Epoch 1/10\n",
      "115/115 [==============================] - 15s 130ms/step - loss: 1.0054 - accuracy: 0.5542 - val_loss: 0.9422 - val_accuracy: 0.6226\n",
      "Epoch 2/10\n",
      "115/115 [==============================] - 16s 143ms/step - loss: 0.6277 - accuracy: 0.7801 - val_loss: 0.5563 - val_accuracy: 0.7871\n",
      "Epoch 3/10\n",
      "115/115 [==============================] - 19s 167ms/step - loss: 0.4562 - accuracy: 0.8212 - val_loss: 0.3576 - val_accuracy: 0.8630\n",
      "Epoch 4/10\n",
      "115/115 [==============================] - 21s 186ms/step - loss: 0.3618 - accuracy: 0.8558 - val_loss: 0.2948 - val_accuracy: 0.8868\n",
      "Epoch 5/10\n",
      "115/115 [==============================] - 20s 178ms/step - loss: 0.3065 - accuracy: 0.8864 - val_loss: 0.2563 - val_accuracy: 0.9052\n",
      "Epoch 6/10\n",
      "115/115 [==============================] - 21s 182ms/step - loss: 0.2542 - accuracy: 0.9089 - val_loss: 0.1994 - val_accuracy: 0.9326\n",
      "Epoch 7/10\n",
      "115/115 [==============================] - 19s 169ms/step - loss: 0.2027 - accuracy: 0.9325 - val_loss: 0.1607 - val_accuracy: 0.9416\n",
      "Epoch 8/10\n",
      "115/115 [==============================] - 20s 172ms/step - loss: 0.1624 - accuracy: 0.9472 - val_loss: 0.1499 - val_accuracy: 0.9455\n",
      "Epoch 9/10\n",
      "115/115 [==============================] - 18s 155ms/step - loss: 0.1295 - accuracy: 0.9573 - val_loss: 0.0837 - val_accuracy: 0.9740\n",
      "Epoch 10/10\n",
      "115/115 [==============================] - 19s 167ms/step - loss: 0.0955 - accuracy: 0.9702 - val_loss: 0.0595 - val_accuracy: 0.9828\n",
      "[[ 515    3    1   10]\n",
      " [  45  532    4    1]\n",
      " [   1    3 1255    8]\n",
      " [   3    2    3 2498]]\n",
      "              precision    recall  f1-score   support\n",
      "\n",
      "         bus       0.91      0.97      0.94       529\n",
      "         kot       0.99      0.91      0.95       582\n",
      "         nap       0.99      0.99      0.99      1267\n",
      "         rab       0.99      1.00      0.99      2506\n",
      "\n",
      "    accuracy                           0.98      4884\n",
      "   macro avg       0.97      0.97      0.97      4884\n",
      "weighted avg       0.98      0.98      0.98      4884\n",
      "\n",
      "CNN Accuracy: 0.98\n",
      "Cohen's Kappa 0.97\n"
     ]
    }
   ],
   "source": [
    "(trainSamples, testSamples, trainLabels, testLabels) = train_test_split(samples, labels, test_size=0.25, random_state=42)\n",
    "\n",
    "model.compile(loss='categorical_crossentropy', optimizer=\"adam\",metrics=['accuracy'])\n",
    "    \n",
    "EPOCHS=10\n",
    "BATCH=128\n",
    "model.fit(trainSamples, trainLabels, batch_size=BATCH, epochs=EPOCHS\n",
    "              ,validation_data=(testSamples,testLabels)\n",
    "              )\n",
    "    \n",
    "cnnResults = model.predict(testSamples)\n",
    "    \n",
    "print(confusion_matrix(testLabels.argmax(axis=1), cnnResults.argmax(axis=1)))\n",
    "print(classification_report(testLabels.argmax(axis=1), cnnResults.argmax(axis=1),target_names=lb.classes_))\n",
    "print(\"CNN Accuracy: {:.2f}\".format(accuracy_score(testLabels.argmax(axis=1), cnnResults.argmax(axis=1))))\n",
    "print(\"Cohen's Kappa {:.2f}\".format(cohen_kappa_score(testLabels.argmax(axis=1), cnnResults.argmax(axis=1))))"
   ]
  }
 ],
 "metadata": {
  "kernelspec": {
   "display_name": "Python 3",
   "language": "python",
   "name": "python3"
  },
  "language_info": {
   "codemirror_mode": {
    "name": "ipython",
    "version": 3
   },
   "file_extension": ".py",
   "mimetype": "text/x-python",
   "name": "python",
   "nbconvert_exporter": "python",
   "pygments_lexer": "ipython3",
   "version": "3.8.5"
  }
 },
 "nbformat": 4,
 "nbformat_minor": 4
}
