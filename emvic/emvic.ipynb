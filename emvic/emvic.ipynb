{
 "cells": [
  {
   "cell_type": "markdown",
   "metadata": {},
   "source": [
    "# Classification of EMVIC dataset"
   ]
  },
  {
   "cell_type": "markdown",
   "metadata": {},
   "source": [
    "## Import packages"
   ]
  },
  {
   "cell_type": "code",
   "execution_count": 86,
   "metadata": {},
   "outputs": [],
   "source": [
    "import pandas as pd\n",
    "import sklearn\n",
    "import numpy as np\n",
    "from collections import Counter\n",
    "from tensorflow.keras.models import Sequential\n",
    "from tensorflow.keras.layers import Dense\n",
    "import tensorflow as tf\n",
    "from sklearn.metrics import classification_report, confusion_matrix, accuracy_score, cohen_kappa_score\n",
    "import matplotlib.pyplot as plt\n"
   ]
  },
  {
   "cell_type": "code",
   "execution_count": 1,
   "metadata": {},
   "outputs": [
    {
     "name": "stdout",
     "output_type": "stream",
     "text": [
      "Downloaded to flowers.tgz\n"
     ]
    }
   ],
   "source": [
    "import requests\n",
    "r = requests.get(\"https://github.com/kasprowski/etra2021/emvic/emvic.data\", allow_redirects=True)\n",
    "open('emvic.data', 'wb').write(r.content)\n",
    "print(\"Downloaded to emvic.data\")"
   ]
  },
  {
   "cell_type": "markdown",
   "metadata": {},
   "source": [
    "## Load data"
   ]
  },
  {
   "cell_type": "code",
   "execution_count": 102,
   "metadata": {},
   "outputs": [
    {
     "name": "stdout",
     "output_type": "stream",
     "text": [
      "Labels distribution: Counter({'a25': 105, 'a37': 63, 'a40': 52, 'a32': 50, 'a41': 39, 'a42': 38, 'a29': 36, 'a28': 33})\n",
      "(416, 8192)\n",
      "(416,)\n"
     ]
    }
   ],
   "source": [
    "trainData = pd.read_csv('emvic.data',sep='\\t',header=None)\n",
    "samples = np.array(trainData.values[:,4097:],dtype=float)\n",
    "labels = trainData.values[:,0]\n",
    "numLabels = len(set(labels))\n",
    "print(\"Labels distribution:\",Counter(labels))\n",
    "\n",
    "print(samples.shape)\n",
    "print(labels.shape)"
   ]
  },
  {
   "cell_type": "markdown",
   "metadata": {},
   "source": [
    "## Create the model"
   ]
  },
  {
   "cell_type": "code",
   "execution_count": 103,
   "metadata": {},
   "outputs": [
    {
     "name": "stdout",
     "output_type": "stream",
     "text": [
      "Model: \"sequential_15\"\n",
      "_________________________________________________________________\n",
      "Layer (type)                 Output Shape              Param #   \n",
      "=================================================================\n",
      "dense_58 (Dense)             (None, 150)               1228950   \n",
      "_________________________________________________________________\n",
      "dense_59 (Dense)             (None, 150)               22650     \n",
      "_________________________________________________________________\n",
      "dense_60 (Dense)             (None, 150)               22650     \n",
      "_________________________________________________________________\n",
      "dense_61 (Dense)             (None, 150)               22650     \n",
      "_________________________________________________________________\n",
      "dense_62 (Dense)             (None, 8)                 1208      \n",
      "=================================================================\n",
      "Total params: 1,298,108\n",
      "Trainable params: 1,298,108\n",
      "Non-trainable params: 0\n",
      "_________________________________________________________________\n"
     ]
    }
   ],
   "source": [
    "model = Sequential()\n",
    "model.add(Dense(150, input_dim=samples.shape[1], activation='sigmoid'))\n",
    "model.add(Dense(150, activation='sigmoid'))\n",
    "model.add(Dense(150, activation='sigmoid'))\n",
    "model.add(Dense(150, activation='sigmoid'))\n",
    "model.add(Dense(numLabels, activation='softmax'))\n",
    "\n",
    "model.compile(loss='categorical_crossentropy', optimizer=\"adam\",metrics=['accuracy'])\n",
    "model.summary()"
   ]
  },
  {
   "cell_type": "code",
   "execution_count": 104,
   "metadata": {},
   "outputs": [
    {
     "name": "stdout",
     "output_type": "stream",
     "text": [
      "Samples array: (416, 8192)\n",
      "Labels array: (416, 8)\n"
     ]
    }
   ],
   "source": [
    "from sklearn.preprocessing import LabelBinarizer\n",
    "lb = LabelBinarizer()\n",
    "ohlabels = lb.fit_transform(labels)\n",
    "labels = ohlabels\n",
    "print(\"Samples array:\",samples.shape)\n",
    "print(\"Labels array:\",labels.shape)\n"
   ]
  },
  {
   "cell_type": "markdown",
   "metadata": {},
   "source": [
    "## Train-test split (with and without stratification) and model fit"
   ]
  },
  {
   "cell_type": "code",
   "execution_count": 105,
   "metadata": {},
   "outputs": [],
   "source": [
    "# train-test split\n",
    "(trainSamples, testSamples, trainLabels, testLabels) = sklearn.model_selection.train_test_split(samples, labels, random_state=30\n",
    "    , stratify=labels\n",
    "    )"
   ]
  },
  {
   "cell_type": "markdown",
   "metadata": {},
   "source": [
    "## Train the model"
   ]
  },
  {
   "cell_type": "code",
   "execution_count": 106,
   "metadata": {},
   "outputs": [
    {
     "name": "stdout",
     "output_type": "stream",
     "text": [
      "Epoch 1/100\n",
      "10/10 [==============================] - 0s 20ms/step - loss: 2.0426 - accuracy: 0.2500 - val_loss: 2.0224 - val_accuracy: 0.2500\n",
      "Epoch 2/100\n",
      "10/10 [==============================] - 0s 9ms/step - loss: 2.0308 - accuracy: 0.2532 - val_loss: 1.9988 - val_accuracy: 0.2500\n",
      "Epoch 3/100\n",
      "10/10 [==============================] - 0s 9ms/step - loss: 2.0314 - accuracy: 0.2532 - val_loss: 1.9959 - val_accuracy: 0.2500\n",
      "Epoch 4/100\n",
      "10/10 [==============================] - 0s 9ms/step - loss: 2.0013 - accuracy: 0.2885 - val_loss: 1.9762 - val_accuracy: 0.2500\n",
      "Epoch 5/100\n",
      "10/10 [==============================] - 0s 9ms/step - loss: 1.9698 - accuracy: 0.2532 - val_loss: 1.9603 - val_accuracy: 0.2500\n",
      "Epoch 6/100\n",
      "10/10 [==============================] - 0s 9ms/step - loss: 1.9592 - accuracy: 0.2756 - val_loss: 1.9262 - val_accuracy: 0.3077\n",
      "Epoch 7/100\n",
      "10/10 [==============================] - 0s 9ms/step - loss: 1.9160 - accuracy: 0.2917 - val_loss: 1.8686 - val_accuracy: 0.2692\n",
      "Epoch 8/100\n",
      "10/10 [==============================] - 0s 9ms/step - loss: 1.8685 - accuracy: 0.3013 - val_loss: 1.8128 - val_accuracy: 0.3462\n",
      "Epoch 9/100\n",
      "10/10 [==============================] - 0s 9ms/step - loss: 1.8090 - accuracy: 0.3718 - val_loss: 1.7435 - val_accuracy: 0.3750\n",
      "Epoch 10/100\n",
      "10/10 [==============================] - 0s 8ms/step - loss: 1.7445 - accuracy: 0.3622 - val_loss: 1.6815 - val_accuracy: 0.3558\n",
      "Epoch 11/100\n",
      "10/10 [==============================] - 0s 9ms/step - loss: 1.6949 - accuracy: 0.3750 - val_loss: 1.6497 - val_accuracy: 0.3846\n",
      "Epoch 12/100\n",
      "10/10 [==============================] - 0s 9ms/step - loss: 1.6642 - accuracy: 0.4103 - val_loss: 1.6140 - val_accuracy: 0.4327\n",
      "Epoch 13/100\n",
      "10/10 [==============================] - 0s 9ms/step - loss: 1.6422 - accuracy: 0.3654 - val_loss: 1.6066 - val_accuracy: 0.4038\n",
      "Epoch 14/100\n",
      "10/10 [==============================] - 0s 8ms/step - loss: 1.6207 - accuracy: 0.3910 - val_loss: 1.5682 - val_accuracy: 0.4327\n",
      "Epoch 15/100\n",
      "10/10 [==============================] - 0s 9ms/step - loss: 1.6088 - accuracy: 0.3846 - val_loss: 1.5456 - val_accuracy: 0.4519\n",
      "Epoch 16/100\n",
      "10/10 [==============================] - 0s 9ms/step - loss: 1.5751 - accuracy: 0.3814 - val_loss: 1.5131 - val_accuracy: 0.4519\n",
      "Epoch 17/100\n",
      "10/10 [==============================] - 0s 9ms/step - loss: 1.5554 - accuracy: 0.4038 - val_loss: 1.4873 - val_accuracy: 0.4615\n",
      "Epoch 18/100\n",
      "10/10 [==============================] - 0s 9ms/step - loss: 1.5336 - accuracy: 0.4038 - val_loss: 1.4833 - val_accuracy: 0.4712\n",
      "Epoch 19/100\n",
      "10/10 [==============================] - 0s 9ms/step - loss: 1.5018 - accuracy: 0.4391 - val_loss: 1.4364 - val_accuracy: 0.4615\n",
      "Epoch 20/100\n",
      "10/10 [==============================] - 0s 10ms/step - loss: 1.4920 - accuracy: 0.4551 - val_loss: 1.4183 - val_accuracy: 0.4904\n",
      "Epoch 21/100\n",
      "10/10 [==============================] - 0s 11ms/step - loss: 1.4575 - accuracy: 0.4519 - val_loss: 1.3911 - val_accuracy: 0.5000\n",
      "Epoch 22/100\n",
      "10/10 [==============================] - 0s 10ms/step - loss: 1.4368 - accuracy: 0.4840 - val_loss: 1.3898 - val_accuracy: 0.5288\n",
      "Epoch 23/100\n",
      "10/10 [==============================] - 0s 10ms/step - loss: 1.4331 - accuracy: 0.4519 - val_loss: 1.3669 - val_accuracy: 0.5000\n",
      "Epoch 24/100\n",
      "10/10 [==============================] - 0s 10ms/step - loss: 1.4095 - accuracy: 0.4712 - val_loss: 1.3483 - val_accuracy: 0.5481\n",
      "Epoch 25/100\n",
      "10/10 [==============================] - 0s 10ms/step - loss: 1.3684 - accuracy: 0.5192 - val_loss: 1.3252 - val_accuracy: 0.5096\n",
      "Epoch 26/100\n",
      "10/10 [==============================] - 0s 10ms/step - loss: 1.3571 - accuracy: 0.4840 - val_loss: 1.3142 - val_accuracy: 0.5288\n",
      "Epoch 27/100\n",
      "10/10 [==============================] - 0s 10ms/step - loss: 1.3527 - accuracy: 0.5160 - val_loss: 1.3011 - val_accuracy: 0.5000\n",
      "Epoch 28/100\n",
      "10/10 [==============================] - 0s 9ms/step - loss: 1.3128 - accuracy: 0.4968 - val_loss: 1.3048 - val_accuracy: 0.5288\n",
      "Epoch 29/100\n",
      "10/10 [==============================] - 0s 9ms/step - loss: 1.3026 - accuracy: 0.5160 - val_loss: 1.2825 - val_accuracy: 0.5096\n",
      "Epoch 30/100\n",
      "10/10 [==============================] - 0s 8ms/step - loss: 1.3006 - accuracy: 0.5288 - val_loss: 1.2733 - val_accuracy: 0.5192\n",
      "Epoch 31/100\n",
      "10/10 [==============================] - 0s 9ms/step - loss: 1.2844 - accuracy: 0.4904 - val_loss: 1.3040 - val_accuracy: 0.5192\n",
      "Epoch 32/100\n",
      "10/10 [==============================] - 0s 9ms/step - loss: 1.2793 - accuracy: 0.5224 - val_loss: 1.2614 - val_accuracy: 0.5288\n",
      "Epoch 33/100\n",
      "10/10 [==============================] - 0s 10ms/step - loss: 1.2639 - accuracy: 0.5288 - val_loss: 1.2548 - val_accuracy: 0.5481\n",
      "Epoch 34/100\n",
      "10/10 [==============================] - 0s 10ms/step - loss: 1.2424 - accuracy: 0.5353 - val_loss: 1.2560 - val_accuracy: 0.5000\n",
      "Epoch 35/100\n",
      "10/10 [==============================] - 0s 9ms/step - loss: 1.2426 - accuracy: 0.5160 - val_loss: 1.2550 - val_accuracy: 0.5288\n",
      "Epoch 36/100\n",
      "10/10 [==============================] - 0s 9ms/step - loss: 1.2491 - accuracy: 0.5256 - val_loss: 1.2443 - val_accuracy: 0.5385\n",
      "Epoch 37/100\n",
      "10/10 [==============================] - 0s 9ms/step - loss: 1.2330 - accuracy: 0.5449 - val_loss: 1.2466 - val_accuracy: 0.5385\n",
      "Epoch 38/100\n",
      "10/10 [==============================] - 0s 9ms/step - loss: 1.2210 - accuracy: 0.5353 - val_loss: 1.2366 - val_accuracy: 0.5192\n",
      "Epoch 39/100\n",
      "10/10 [==============================] - 0s 11ms/step - loss: 1.2110 - accuracy: 0.5192 - val_loss: 1.2319 - val_accuracy: 0.5192\n",
      "Epoch 40/100\n",
      "10/10 [==============================] - 0s 10ms/step - loss: 1.2249 - accuracy: 0.5449 - val_loss: 1.2536 - val_accuracy: 0.5192\n",
      "Epoch 41/100\n",
      "10/10 [==============================] - 0s 8ms/step - loss: 1.1979 - accuracy: 0.5513 - val_loss: 1.2269 - val_accuracy: 0.5288\n",
      "Epoch 42/100\n",
      "10/10 [==============================] - 0s 8ms/step - loss: 1.1839 - accuracy: 0.5513 - val_loss: 1.2433 - val_accuracy: 0.5481\n",
      "Epoch 43/100\n",
      "10/10 [==============================] - 0s 8ms/step - loss: 1.1896 - accuracy: 0.5641 - val_loss: 1.2422 - val_accuracy: 0.5673\n",
      "Epoch 44/100\n",
      "10/10 [==============================] - 0s 9ms/step - loss: 1.1904 - accuracy: 0.5705 - val_loss: 1.2664 - val_accuracy: 0.4808\n",
      "Epoch 45/100\n",
      "10/10 [==============================] - 0s 9ms/step - loss: 1.2070 - accuracy: 0.5577 - val_loss: 1.2425 - val_accuracy: 0.5385\n",
      "Epoch 46/100\n",
      "10/10 [==============================] - 0s 9ms/step - loss: 1.1834 - accuracy: 0.5449 - val_loss: 1.2743 - val_accuracy: 0.5385\n",
      "Epoch 47/100\n",
      "10/10 [==============================] - 0s 9ms/step - loss: 1.1804 - accuracy: 0.5609 - val_loss: 1.2567 - val_accuracy: 0.5192\n",
      "Epoch 48/100\n",
      "10/10 [==============================] - 0s 8ms/step - loss: 1.1554 - accuracy: 0.5609 - val_loss: 1.2466 - val_accuracy: 0.5385\n",
      "Epoch 49/100\n",
      "10/10 [==============================] - 0s 8ms/step - loss: 1.1496 - accuracy: 0.5962 - val_loss: 1.2563 - val_accuracy: 0.5192\n",
      "Epoch 50/100\n",
      "10/10 [==============================] - 0s 8ms/step - loss: 1.1623 - accuracy: 0.5833 - val_loss: 1.2584 - val_accuracy: 0.5192\n",
      "Epoch 51/100\n",
      "10/10 [==============================] - 0s 9ms/step - loss: 1.1492 - accuracy: 0.5801 - val_loss: 1.2567 - val_accuracy: 0.5288\n",
      "Epoch 52/100\n",
      "10/10 [==============================] - 0s 9ms/step - loss: 1.1391 - accuracy: 0.5962 - val_loss: 1.2498 - val_accuracy: 0.5288\n",
      "Epoch 53/100\n",
      "10/10 [==============================] - 0s 10ms/step - loss: 1.1267 - accuracy: 0.5994 - val_loss: 1.2696 - val_accuracy: 0.5288\n",
      "Epoch 54/100\n",
      "10/10 [==============================] - 0s 9ms/step - loss: 1.1183 - accuracy: 0.5962 - val_loss: 1.2557 - val_accuracy: 0.5481\n",
      "Epoch 55/100\n",
      "10/10 [==============================] - 0s 10ms/step - loss: 1.1109 - accuracy: 0.5929 - val_loss: 1.2592 - val_accuracy: 0.5096\n",
      "Epoch 56/100\n",
      "10/10 [==============================] - 0s 11ms/step - loss: 1.1094 - accuracy: 0.6090 - val_loss: 1.2600 - val_accuracy: 0.5385\n",
      "Epoch 57/100\n",
      "10/10 [==============================] - 0s 11ms/step - loss: 1.0951 - accuracy: 0.5994 - val_loss: 1.2575 - val_accuracy: 0.5288\n",
      "Epoch 58/100\n",
      "10/10 [==============================] - 0s 10ms/step - loss: 1.0916 - accuracy: 0.5994 - val_loss: 1.2555 - val_accuracy: 0.5192\n",
      "Epoch 59/100\n",
      "10/10 [==============================] - 0s 10ms/step - loss: 1.0913 - accuracy: 0.6026 - val_loss: 1.2757 - val_accuracy: 0.5096\n",
      "Epoch 60/100\n",
      "10/10 [==============================] - 0s 10ms/step - loss: 1.1051 - accuracy: 0.5994 - val_loss: 1.2608 - val_accuracy: 0.5577\n",
      "Epoch 61/100\n",
      "10/10 [==============================] - 0s 10ms/step - loss: 1.0841 - accuracy: 0.5962 - val_loss: 1.2627 - val_accuracy: 0.5096\n",
      "Epoch 62/100\n",
      "10/10 [==============================] - 0s 10ms/step - loss: 1.0626 - accuracy: 0.6186 - val_loss: 1.2701 - val_accuracy: 0.5385\n",
      "Epoch 63/100\n",
      "10/10 [==============================] - 0s 10ms/step - loss: 1.0628 - accuracy: 0.6122 - val_loss: 1.2630 - val_accuracy: 0.5096\n",
      "Epoch 64/100\n",
      "10/10 [==============================] - 0s 10ms/step - loss: 1.0595 - accuracy: 0.6154 - val_loss: 1.2649 - val_accuracy: 0.5096\n",
      "Epoch 65/100\n",
      "10/10 [==============================] - 0s 10ms/step - loss: 1.0518 - accuracy: 0.5929 - val_loss: 1.3038 - val_accuracy: 0.5385\n",
      "Epoch 66/100\n",
      "10/10 [==============================] - 0s 10ms/step - loss: 1.0537 - accuracy: 0.6122 - val_loss: 1.2681 - val_accuracy: 0.5481\n",
      "Epoch 67/100\n",
      "10/10 [==============================] - 0s 9ms/step - loss: 1.0355 - accuracy: 0.6154 - val_loss: 1.2734 - val_accuracy: 0.5288\n",
      "Epoch 68/100\n",
      "10/10 [==============================] - 0s 10ms/step - loss: 1.0480 - accuracy: 0.6154 - val_loss: 1.2915 - val_accuracy: 0.5288\n",
      "Epoch 69/100\n",
      "10/10 [==============================] - 0s 10ms/step - loss: 1.0317 - accuracy: 0.6346 - val_loss: 1.2739 - val_accuracy: 0.5288\n",
      "Epoch 70/100\n",
      "10/10 [==============================] - 0s 10ms/step - loss: 1.0268 - accuracy: 0.6186 - val_loss: 1.2822 - val_accuracy: 0.5192\n",
      "Epoch 71/100\n",
      "10/10 [==============================] - 0s 11ms/step - loss: 1.0203 - accuracy: 0.6154 - val_loss: 1.2801 - val_accuracy: 0.5288\n",
      "Epoch 72/100\n",
      "10/10 [==============================] - 0s 11ms/step - loss: 1.0185 - accuracy: 0.6154 - val_loss: 1.2943 - val_accuracy: 0.5288\n",
      "Epoch 73/100\n",
      "10/10 [==============================] - 0s 9ms/step - loss: 1.0350 - accuracy: 0.6410 - val_loss: 1.2883 - val_accuracy: 0.5288\n",
      "Epoch 74/100\n",
      "10/10 [==============================] - 0s 10ms/step - loss: 1.0326 - accuracy: 0.6154 - val_loss: 1.3061 - val_accuracy: 0.5288\n",
      "Epoch 75/100\n",
      "10/10 [==============================] - 0s 10ms/step - loss: 1.0331 - accuracy: 0.6090 - val_loss: 1.3081 - val_accuracy: 0.5288\n",
      "Epoch 76/100\n",
      "10/10 [==============================] - 0s 9ms/step - loss: 1.0071 - accuracy: 0.6250 - val_loss: 1.2892 - val_accuracy: 0.5288\n",
      "Epoch 77/100\n",
      "10/10 [==============================] - 0s 9ms/step - loss: 1.0030 - accuracy: 0.6314 - val_loss: 1.3015 - val_accuracy: 0.5288\n",
      "Epoch 78/100\n",
      "10/10 [==============================] - 0s 9ms/step - loss: 0.9934 - accuracy: 0.6186 - val_loss: 1.2956 - val_accuracy: 0.5192\n",
      "Epoch 79/100\n",
      "10/10 [==============================] - 0s 9ms/step - loss: 1.0149 - accuracy: 0.6218 - val_loss: 1.3155 - val_accuracy: 0.5288\n",
      "Epoch 80/100\n",
      "10/10 [==============================] - 0s 9ms/step - loss: 0.9796 - accuracy: 0.6410 - val_loss: 1.3002 - val_accuracy: 0.5192\n",
      "Epoch 81/100\n",
      "10/10 [==============================] - 0s 9ms/step - loss: 0.9719 - accuracy: 0.6378 - val_loss: 1.3086 - val_accuracy: 0.5192\n",
      "Epoch 82/100\n",
      "10/10 [==============================] - 0s 9ms/step - loss: 0.9762 - accuracy: 0.6474 - val_loss: 1.3136 - val_accuracy: 0.5385\n",
      "Epoch 83/100\n",
      "10/10 [==============================] - 0s 11ms/step - loss: 0.9609 - accuracy: 0.6474 - val_loss: 1.2969 - val_accuracy: 0.5481\n",
      "Epoch 84/100\n",
      "10/10 [==============================] - 0s 10ms/step - loss: 0.9590 - accuracy: 0.6410 - val_loss: 1.3113 - val_accuracy: 0.5288\n",
      "Epoch 85/100\n",
      "10/10 [==============================] - 0s 12ms/step - loss: 0.9493 - accuracy: 0.6538 - val_loss: 1.3191 - val_accuracy: 0.5192\n",
      "Epoch 86/100\n",
      "10/10 [==============================] - 0s 10ms/step - loss: 0.9444 - accuracy: 0.6538 - val_loss: 1.3214 - val_accuracy: 0.5096\n",
      "Epoch 87/100\n",
      "10/10 [==============================] - 0s 10ms/step - loss: 0.9443 - accuracy: 0.6346 - val_loss: 1.3188 - val_accuracy: 0.5481\n",
      "Epoch 88/100\n",
      "10/10 [==============================] - 0s 11ms/step - loss: 0.9347 - accuracy: 0.6538 - val_loss: 1.3413 - val_accuracy: 0.5096\n",
      "Epoch 89/100\n",
      "10/10 [==============================] - 0s 11ms/step - loss: 0.9353 - accuracy: 0.6506 - val_loss: 1.3311 - val_accuracy: 0.5385\n",
      "Epoch 90/100\n",
      "10/10 [==============================] - 0s 11ms/step - loss: 0.9434 - accuracy: 0.6314 - val_loss: 1.3317 - val_accuracy: 0.5192\n",
      "Epoch 91/100\n",
      "10/10 [==============================] - 0s 11ms/step - loss: 0.9348 - accuracy: 0.6378 - val_loss: 1.3620 - val_accuracy: 0.5288\n",
      "Epoch 92/100\n",
      "10/10 [==============================] - 0s 10ms/step - loss: 0.9456 - accuracy: 0.6282 - val_loss: 1.3514 - val_accuracy: 0.5192\n",
      "Epoch 93/100\n",
      "10/10 [==============================] - 0s 10ms/step - loss: 0.9282 - accuracy: 0.6538 - val_loss: 1.3341 - val_accuracy: 0.5096\n",
      "Epoch 94/100\n",
      "10/10 [==============================] - 0s 10ms/step - loss: 0.9217 - accuracy: 0.6571 - val_loss: 1.3432 - val_accuracy: 0.5385\n",
      "Epoch 95/100\n",
      "10/10 [==============================] - 0s 10ms/step - loss: 0.9018 - accuracy: 0.6571 - val_loss: 1.3439 - val_accuracy: 0.5288\n",
      "Epoch 96/100\n",
      "10/10 [==============================] - 0s 10ms/step - loss: 0.9127 - accuracy: 0.6506 - val_loss: 1.3468 - val_accuracy: 0.5481\n",
      "Epoch 97/100\n",
      "10/10 [==============================] - 0s 9ms/step - loss: 0.9072 - accuracy: 0.6699 - val_loss: 1.3789 - val_accuracy: 0.5192\n",
      "Epoch 98/100\n",
      "10/10 [==============================] - 0s 9ms/step - loss: 0.9026 - accuracy: 0.6635 - val_loss: 1.3621 - val_accuracy: 0.5481\n",
      "Epoch 99/100\n",
      "10/10 [==============================] - 0s 9ms/step - loss: 0.8977 - accuracy: 0.6763 - val_loss: 1.3694 - val_accuracy: 0.5000\n",
      "Epoch 100/100\n",
      "10/10 [==============================] - 0s 9ms/step - loss: 0.8964 - accuracy: 0.6538 - val_loss: 1.3601 - val_accuracy: 0.5288\n"
     ]
    }
   ],
   "source": [
    "#model = KNeighborsClassifier()\n",
    "H = model.fit(trainSamples, trainLabels,epochs=100,validation_data=(testSamples,testLabels))    "
   ]
  },
  {
   "cell_type": "markdown",
   "metadata": {},
   "source": [
    "## Training history "
   ]
  },
  {
   "cell_type": "code",
   "execution_count": 107,
   "metadata": {},
   "outputs": [
    {
     "data": {
      "image/png": "[encoded data removed]",
      "text/plain": [
       "<Figure size 432x288 with 1 Axes>"
      ]
     },
     "metadata": {
      "needs_background": "light"
     },
     "output_type": "display_data"
    }
   ],
   "source": [
    "N = np.arange(0, 100)\n",
    "\n",
    "plt.plot(N, H.history[\"loss\"], label=\"train_loss\")\n",
    "plt.plot(N, H.history[\"accuracy\"], label=\"train_acc\")\n",
    "plt.plot(N, H.history[\"val_loss\"], label=\"val_loss\")\n",
    "plt.plot(N, H.history[\"val_accuracy\"], label=\"val_acc\")\n",
    "\n",
    "plt.title(\"Training Loss and Accuracy\")\n",
    "plt.xlabel(\"Epoch #\")\n",
    "plt.ylabel(\"Loss/Accuracy\")\n",
    "plt.legend()\n",
    "plt.show()\n"
   ]
  },
  {
   "cell_type": "markdown",
   "metadata": {},
   "source": [
    "## Check error for the training set"
   ]
  },
  {
   "cell_type": "code",
   "execution_count": 108,
   "metadata": {},
   "outputs": [
    {
     "name": "stdout",
     "output_type": "stream",
     "text": [
      "[[74  0  1  2  0  0  0  2]\n",
      " [ 0 19  3  0  0  1  1  1]\n",
      " [ 0  2 21  1  1  0  0  2]\n",
      " [ 1  2  5 14  6  3  1  5]\n",
      " [ 0  3  3  4 32  0  0  5]\n",
      " [ 0  3  0  0  1 35  0  0]\n",
      " [ 1  2  1  2  7  0 11  5]\n",
      " [ 1  0  3  3 10  0  2 10]]\n",
      "              precision    recall  f1-score   support\n",
      "\n",
      "           0       0.96      0.94      0.95        79\n",
      "           1       0.61      0.76      0.68        25\n",
      "           2       0.57      0.78      0.66        27\n",
      "           3       0.54      0.38      0.44        37\n",
      "           4       0.56      0.68      0.62        47\n",
      "           5       0.90      0.90      0.90        39\n",
      "           6       0.73      0.38      0.50        29\n",
      "           7       0.33      0.34      0.34        29\n",
      "\n",
      "    accuracy                           0.69       312\n",
      "   macro avg       0.65      0.64      0.63       312\n",
      "weighted avg       0.70      0.69      0.69       312\n",
      "\n",
      "Cohen's Kappa: 0.639219465189111\n",
      "Accuracy:  0.6923076923076923\n"
     ]
    }
   ],
   "source": [
    "trainResults = model.predict(trainSamples)\n",
    "\n",
    "print(confusion_matrix(trainLabels.argmax(axis=1), trainResults.argmax(axis=1)))\n",
    "print(classification_report(trainLabels.argmax(axis=1), trainResults.argmax(axis=1)))\n",
    "print(\"Cohen's Kappa: {}\".format(cohen_kappa_score(trainLabels.argmax(axis=1), trainResults.argmax(axis=1))))\n",
    "print(\"Accuracy: \",accuracy_score(trainLabels.argmax(axis=1), trainResults.argmax(axis=1)))\n"
   ]
  },
  {
   "cell_type": "markdown",
   "metadata": {},
   "source": [
    "## Check error for the test set"
   ]
  },
  {
   "cell_type": "code",
   "execution_count": 109,
   "metadata": {},
   "outputs": [
    {
     "name": "stdout",
     "output_type": "stream",
     "text": [
      "[[24  0  0  1  0  1  0  0]\n",
      " [ 0  4  2  0  2  0  0  0]\n",
      " [ 0  2  6  0  1  0  0  0]\n",
      " [ 1  2  1  3  3  1  1  1]\n",
      " [ 1  2  5  0  6  0  1  1]\n",
      " [ 2  0  0  0  1  9  0  1]\n",
      " [ 0  2  0  0  4  0  1  3]\n",
      " [ 0  1  1  2  3  0  0  2]]\n",
      "              precision    recall  f1-score   support\n",
      "\n",
      "           0       0.86      0.92      0.89        26\n",
      "           1       0.31      0.50      0.38         8\n",
      "           2       0.40      0.67      0.50         9\n",
      "           3       0.50      0.23      0.32        13\n",
      "           4       0.30      0.38      0.33        16\n",
      "           5       0.82      0.69      0.75        13\n",
      "           6       0.33      0.10      0.15        10\n",
      "           7       0.25      0.22      0.24         9\n",
      "\n",
      "    accuracy                           0.53       104\n",
      "   macro avg       0.47      0.46      0.44       104\n",
      "weighted avg       0.54      0.53      0.51       104\n",
      "\n",
      "Cohen's Kappa: 0.44644796871605474\n",
      "Accuracy:  0.5288461538461539\n"
     ]
    }
   ],
   "source": [
    "testResults = model.predict(testSamples)\n",
    "\n",
    "print(confusion_matrix(testLabels.argmax(axis=1), testResults.argmax(axis=1)))\n",
    "print(classification_report(testLabels.argmax(axis=1), testResults.argmax(axis=1)))\n",
    "print(\"Cohen's Kappa: {}\".format(cohen_kappa_score(testLabels.argmax(axis=1), testResults.argmax(axis=1))))\n",
    "print(\"Accuracy: \",accuracy_score(testLabels.argmax(axis=1), testResults.argmax(axis=1)))\n"
   ]
  }
 ],
 "metadata": {
  "kernelspec": {
   "display_name": "Python 3",
   "language": "python",
   "name": "python3"
  },
  "language_info": {
   "codemirror_mode": {
    "name": "ipython",
    "version": 3
   },
   "file_extension": ".py",
   "mimetype": "text/x-python",
   "name": "python",
   "nbconvert_exporter": "python",
   "pygments_lexer": "ipython3",
   "version": "3.8.5"
  }
 },
 "nbformat": 4,
 "nbformat_minor": 4
}
