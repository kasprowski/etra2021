{
 "cells": [
  {
   "cell_type": "markdown",
   "metadata": {},
   "source": [
    "### Deep Learning in the Eye Tracking World \n",
    "#### the tutorial presented during ETRA 2021 (https://etra.acm.org/2021/acceptedtutorials.html)\n",
    "#### the code downloaded from: https://github.com/kasprowski/etra2021\n",
    "@author: pawel@kasprowski.pl\n"
   ]
  },
  {
   "cell_type": "markdown",
   "metadata": {},
   "source": [
    "# Convert eye tracking data to images and use images to perform CNN classification"
   ]
  },
  {
   "cell_type": "code",
   "execution_count": 1,
   "metadata": {},
   "outputs": [],
   "source": [
    "import numpy as np\n",
    "import os\n",
    "import cv2\n",
    "\n",
    "from sklearn.metrics import classification_report,confusion_matrix, accuracy_score, cohen_kappa_score\n",
    "from sklearn.model_selection import train_test_split\n",
    "from sklearn.preprocessing import LabelBinarizer\n",
    "from sklearn.utils import class_weight\n",
    "from tensorflow.python.keras.callbacks import ModelCheckpoint, EarlyStopping\n",
    "\n",
    "from tensorflow.keras.layers import Activation,Conv2D,Dense,Dropout,Flatten,MaxPooling2D,BatchNormalization\n",
    "from tensorflow.keras.models import Sequential"
   ]
  },
  {
   "cell_type": "markdown",
   "metadata": {},
   "source": [
    "## Convert eye tracking data to images"
   ]
  },
  {
   "cell_type": "code",
   "execution_count": 2,
   "metadata": {},
   "outputs": [
    {
     "name": "stdout",
     "output_type": "stream",
     "text": [
      "Added 611 of 611\n",
      "Images saved to  radio_img\n"
     ]
    }
   ],
   "source": [
    "def convert_txt_to_img(indir,outdir):\n",
    "    if not os.path.exists(outdir):\n",
    "        os.makedirs(outdir)\n",
    "    i=0\n",
    "    added = 0\n",
    "    samplesIMG = []\n",
    "    namesIMG = []\n",
    "    # loading txt files from indir\n",
    "    for file in os.listdir(indir):\n",
    "        sample = np.genfromtxt(os.path.join(indir, file), delimiter=',', skip_header=1)\n",
    "        #print(\"{}. {} - {}\".format(i,file,sample.shape))\n",
    "        if sample.shape[0]>100:\n",
    "            samplesIMG.append(sample)\n",
    "            namesIMG.append(file)\n",
    "            added+=1\n",
    "        i+=1\n",
    "    print(f\"Added {added} of {i}\")    \n",
    "\n",
    "    # for each file create an image with blurred gaze points and save it to outdir\n",
    "    for j in range(len(samplesIMG)):\n",
    "        img = np.zeros((108,192))\n",
    "        s = samplesIMG[j]\n",
    "        for i in range(s.shape[0]):\n",
    "            x = int(s[i,3]/10)\n",
    "            y = int(s[i,4]/10)\n",
    "            #print(\"{} {},{}\".format(s[i,0],x,y))\n",
    "            if x>=0 and y>=0 and x<192 and y<108:\n",
    "                img[y,x] = 255\n",
    "\n",
    "        img = cv2.GaussianBlur(img,(9,9),5)        \n",
    "        cv2.imwrite(outdir+'/'+namesIMG[j]+\".jpg\", img)\n",
    "    print(\"Images saved to \",outdir\n",
    "         )\n",
    "convert_txt_to_img(\"radio\",\"radio_img\")"
   ]
  },
  {
   "cell_type": "markdown",
   "metadata": {},
   "source": [
    "## Load data (images)"
   ]
  },
  {
   "cell_type": "code",
   "execution_count": 3,
   "metadata": {},
   "outputs": [
    {
     "name": "stdout",
     "output_type": "stream",
     "text": [
      "shape = (611, 108, 192)\n",
      "shape = (611, 108, 192, 1)\n",
      "inputShape = (108, 192, 1)\n"
     ]
    }
   ],
   "source": [
    "def load_img(indir):\n",
    "    samples = []\n",
    "    labels = []\n",
    "    names = []\n",
    "    for file in os.listdir(indir):\n",
    "        sample = cv2.imread(\"{}/{}\".format(indir,file))\n",
    "        sample = cv2.cvtColor(sample, cv2.COLOR_BGR2GRAY)\n",
    "        sample = cv2.resize(sample,(192,108))\n",
    "        samples.append(sample)\n",
    "        labels.append(file[:1])\n",
    "        names.append(file[:-4])\n",
    "    samples = np.array(samples)\n",
    "    labels = np.array(labels)\n",
    "    return samples,labels,names\n",
    "\n",
    "samples,labels,_ = load_img(\"radio_img\")\n",
    "print(\"shape = {}\".format(samples.shape))\n",
    "\n",
    "#add the fourth dimension (color)\n",
    "samples = np.expand_dims(samples, axis=3)\n",
    "\n",
    "print(\"shape = {}\".format(samples.shape))\n",
    "inputShape = (samples.shape[1],samples.shape[2],samples.shape[3])\n",
    "print(\"inputShape = {}\".format(inputShape))\n"
   ]
  },
  {
   "cell_type": "markdown",
   "metadata": {},
   "source": [
    "## Calculate weights and perform one-hot encoding"
   ]
  },
  {
   "cell_type": "code",
   "execution_count": 4,
   "metadata": {},
   "outputs": [
    {
     "name": "stdout",
     "output_type": "stream",
     "text": [
      "weights {0: 1.64247311827957, 1: 1.1252302025782688, 2: 0.6655773420479303}\n",
      "Classes: 3\n"
     ]
    }
   ],
   "source": [
    "#weights\n",
    "class_weights = class_weight.compute_class_weight('balanced',classes=np.unique(labels),y=labels)\n",
    "d_class_weights = dict(enumerate(class_weights))\n",
    "print(\"weights {}\".format(d_class_weights))\n",
    "\n",
    "#one-hot encoding\n",
    "lb = LabelBinarizer()\n",
    "labels = lb.fit_transform(labels)\n",
    "classesNum= labels.shape[1]\n",
    "print (\"Classes: {}\".format(classesNum))\n"
   ]
  },
  {
   "cell_type": "markdown",
   "metadata": {},
   "source": [
    "## Create and compile the CNN model"
   ]
  },
  {
   "cell_type": "code",
   "execution_count": 5,
   "metadata": {},
   "outputs": [],
   "source": [
    "def cnn_model(inputShape,numClasses):\n",
    "    model = Sequential()\n",
    "    model.add(Conv2D(16, (3, 3), padding=\"same\",input_shape=inputShape))\n",
    "    model.add(BatchNormalization())\n",
    "    model.add(Activation(\"relu\"))\n",
    "    model.add(MaxPooling2D(pool_size=(2, 2)))\n",
    "    model.add(Conv2D(32, (3, 3), padding=\"same\",input_shape=inputShape))\n",
    "    model.add(BatchNormalization())\n",
    "    model.add(Activation(\"relu\"))\n",
    "    model.add(MaxPooling2D(pool_size=(2, 2)))\n",
    "    model.add(Conv2D(64, (3, 3), padding=\"same\",input_shape=inputShape))\n",
    "    model.add(BatchNormalization())\n",
    "    model.add(Activation(\"relu\"))\n",
    "    model.add(MaxPooling2D(pool_size=(2, 2)))\n",
    "    model.add(Dropout(0.25))\n",
    "    model.add(Flatten())\n",
    "    model.add(Dense(256))\n",
    "    model.add(Activation(\"sigmoid\"))\n",
    "    model.add(Dense(numClasses))\n",
    "    model.add(Activation(\"softmax\"))\n",
    "\n",
    "    loss='categorical_crossentropy'    \n",
    "    model.compile(loss=loss, optimizer=\"adam\",metrics=['accuracy'])\n",
    "    return model\n",
    "model = cnn_model(inputShape,classesNum)"
   ]
  },
  {
   "cell_type": "code",
   "execution_count": 6,
   "metadata": {},
   "outputs": [],
   "source": [
    "#split to training and test\n",
    "(trainSamples, testSamples, trainLabels, testLabels) = train_test_split(samples, labels, test_size=0.25, random_state=42)"
   ]
  },
  {
   "cell_type": "code",
   "execution_count": 7,
   "metadata": {},
   "outputs": [
    {
     "name": "stdout",
     "output_type": "stream",
     "text": [
      "Epoch 1/20\n",
      "15/15 [==============================] - 7s 497ms/step - loss: 3.9042 - accuracy: 0.5175 - val_loss: 3.0354 - val_accuracy: 0.5425\n",
      "Epoch 2/20\n",
      "15/15 [==============================] - 8s 526ms/step - loss: 2.5153 - accuracy: 0.6070 - val_loss: 1.9586 - val_accuracy: 0.5490\n",
      "Epoch 3/20\n",
      "15/15 [==============================] - 7s 500ms/step - loss: 1.4647 - accuracy: 0.6310 - val_loss: 1.0076 - val_accuracy: 0.5817\n",
      "Epoch 4/20\n",
      "15/15 [==============================] - 8s 564ms/step - loss: 0.8340 - accuracy: 0.5611 - val_loss: 0.8379 - val_accuracy: 0.4902\n",
      "Epoch 5/20\n",
      "15/15 [==============================] - 8s 556ms/step - loss: 0.7512 - accuracy: 0.4629 - val_loss: 0.8019 - val_accuracy: 0.6275\n",
      "Epoch 6/20\n",
      "15/15 [==============================] - 8s 562ms/step - loss: 0.7051 - accuracy: 0.6616 - val_loss: 0.7899 - val_accuracy: 0.5490\n",
      "Epoch 7/20\n",
      "15/15 [==============================] - 8s 563ms/step - loss: 0.6872 - accuracy: 0.5939 - val_loss: 0.7871 - val_accuracy: 0.5817\n",
      "Epoch 8/20\n",
      "15/15 [==============================] - 8s 529ms/step - loss: 0.6461 - accuracy: 0.7249 - val_loss: 0.7449 - val_accuracy: 0.6209\n",
      "Epoch 9/20\n",
      "15/15 [==============================] - 8s 528ms/step - loss: 0.6327 - accuracy: 0.6441 - val_loss: 0.7354 - val_accuracy: 0.6405\n",
      "Epoch 10/20\n",
      "15/15 [==============================] - 8s 532ms/step - loss: 0.5896 - accuracy: 0.7686 - val_loss: 0.7418 - val_accuracy: 0.6275\n",
      "Epoch 11/20\n",
      "15/15 [==============================] - 8s 542ms/step - loss: 0.5831 - accuracy: 0.7555 - val_loss: 0.7415 - val_accuracy: 0.6144\n",
      "Epoch 12/20\n",
      "15/15 [==============================] - 9s 613ms/step - loss: 0.5608 - accuracy: 0.7467 - val_loss: 0.7246 - val_accuracy: 0.6797\n",
      "Epoch 13/20\n",
      "15/15 [==============================] - 8s 514ms/step - loss: 0.5422 - accuracy: 0.7795 - val_loss: 0.7352 - val_accuracy: 0.6209\n",
      "Epoch 14/20\n",
      "15/15 [==============================] - 10s 676ms/step - loss: 0.5200 - accuracy: 0.8122 - val_loss: 0.7060 - val_accuracy: 0.6405\n",
      "Epoch 15/20\n",
      "15/15 [==============================] - 11s 705ms/step - loss: 0.5016 - accuracy: 0.8362 - val_loss: 0.7125 - val_accuracy: 0.6536\n",
      "Epoch 16/20\n",
      "15/15 [==============================] - 11s 744ms/step - loss: 0.4907 - accuracy: 0.8493 - val_loss: 0.6907 - val_accuracy: 0.6667\n",
      "Epoch 17/20\n",
      "15/15 [==============================] - 9s 620ms/step - loss: 0.4658 - accuracy: 0.8406 - val_loss: 0.6726 - val_accuracy: 0.6797\n",
      "Epoch 18/20\n",
      "15/15 [==============================] - 10s 640ms/step - loss: 0.4452 - accuracy: 0.8712 - val_loss: 0.6827 - val_accuracy: 0.6471\n",
      "Epoch 19/20\n",
      "15/15 [==============================] - 9s 616ms/step - loss: 0.4218 - accuracy: 0.8668 - val_loss: 0.7059 - val_accuracy: 0.6209\n",
      "Epoch 20/20\n",
      "15/15 [==============================] - 10s 678ms/step - loss: 0.4075 - accuracy: 0.8624 - val_loss: 0.6827 - val_accuracy: 0.6471\n"
     ]
    }
   ],
   "source": [
    "## callbacks\n",
    "callback1 = ModelCheckpoint(filepath='model.{epoch:02d}-{val_loss:.2f}.h5', save_best_only=True)\n",
    "callback2 = EarlyStopping(monitor='val_loss', patience=3)\n",
    "\n",
    "EPOCHS=20\n",
    "BATCH=32\n",
    "H = model.fit(trainSamples, trainLabels, batch_size=BATCH, epochs=EPOCHS,class_weight=d_class_weights,verbose=1,\n",
    "              callbacks = [callback1,callback2],\n",
    "              validation_data=(testSamples,testLabels))\n",
    "    \n"
   ]
  },
  {
   "cell_type": "code",
   "execution_count": 8,
   "metadata": {},
   "outputs": [
    {
     "name": "stdout",
     "output_type": "stream",
     "text": [
      "[[28  1  7]\n",
      " [ 4 24 23]\n",
      " [ 5 14 47]]\n",
      "              precision    recall  f1-score   support\n",
      "\n",
      "           0       0.76      0.78      0.77        36\n",
      "           1       0.62      0.47      0.53        51\n",
      "           2       0.61      0.71      0.66        66\n",
      "\n",
      "    accuracy                           0.65       153\n",
      "   macro avg       0.66      0.65      0.65       153\n",
      "weighted avg       0.65      0.65      0.64       153\n",
      "\n",
      "Accuracy CNN: 0.65\n",
      "Cohen's Kappa 0.45\n"
     ]
    }
   ],
   "source": [
    "cnnResults = model.predict(testSamples)\n",
    "\n",
    "print(confusion_matrix(testLabels.argmax(axis=1), cnnResults.argmax(axis=1)))\n",
    "print(classification_report(testLabels.argmax(axis=1), cnnResults.argmax(axis=1)))\n",
    "cnnAcc = accuracy_score(testLabels.argmax(axis=1), cnnResults.argmax(axis=1))\n",
    "print(\"Accuracy CNN: {:.2f}\".format(cnnAcc))\n",
    "print(\"Cohen's Kappa {:.2f}\".format(cohen_kappa_score(testLabels.argmax(axis=1), cnnResults.argmax(axis=1))))"
   ]
  },
  {
   "cell_type": "code",
   "execution_count": 9,
   "metadata": {},
   "outputs": [
    {
     "data": {
      "text/plain": [
       "Text(0, 0.5, 'Accuracy')"
      ]
     },
     "execution_count": 9,
     "metadata": {},
     "output_type": "execute_result"
    },
    {
     "data": {
      "image/png": "[encoded data removed]",
      "text/plain": [
       "<Figure size 1080x360 with 2 Axes>"
      ]
     },
     "metadata": {
      "needs_background": "light"
     },
     "output_type": "display_data"
    }
   ],
   "source": [
    "import matplotlib.pyplot as plt\n",
    "\n",
    "fig=plt.figure(figsize=(15,5))\n",
    "ax = plt.subplot(1, 2, 1)\n",
    "plt.plot(H.history[\"loss\"], label=\"train_loss\")\n",
    "plt.plot(H.history[\"val_loss\"], label=\"val_loss\")\n",
    "plt.legend()\n",
    "plt.title(\"Loss\")\n",
    "plt.xlabel(\"Epoch #\")\n",
    "plt.ylabel(\"Loss\")\n",
    "\n",
    "ax = plt.subplot(1, 2, 2)\n",
    "plt.plot(H.history[\"accuracy\"], label=\"train_acc\")\n",
    "plt.plot(H.history[\"val_accuracy\"], label=\"val_acc\")\n",
    "plt.ylim(0,2)\n",
    "plt.legend()\n",
    "plt.title(\"Accuracy\")\n",
    "plt.xlabel(\"Epoch #\")\n",
    "plt.ylabel(\"Accuracy\")\n"
   ]
  }
 ],
 "metadata": {
  "kernelspec": {
   "display_name": "Python 3",
   "language": "python",
   "name": "python3"
  },
  "language_info": {
   "codemirror_mode": {
    "name": "ipython",
    "version": 3
   },
   "file_extension": ".py",
   "mimetype": "text/x-python",
   "name": "python",
   "nbconvert_exporter": "python",
   "pygments_lexer": "ipython3",
   "version": "3.8.5"
  }
 },
 "nbformat": 4,
 "nbformat_minor": 4
}
