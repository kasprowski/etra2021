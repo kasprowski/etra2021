{
 "cells": [
  {
   "cell_type": "markdown",
   "metadata": {},
   "source": [
    "### Deep Learning in the Eye Tracking World \n",
    "#### the tutorial presented during ETRA 2021 (https://etra.acm.org/2021/acceptedtutorials.html)\n",
    "#### the code downloaded from: https://github.com/kasprowski/etra2021\n",
    "@author: pawel@kasprowski.pl\n"
   ]
  },
  {
   "cell_type": "markdown",
   "metadata": {},
   "source": [
    "# Classification of \"radio\" samples using DecisionTree\n",
    "## Script loads data from /radio folder and classifies all samples as:\n",
    "- L - layman\n",
    "- R - resident\n",
    "- S - radiology specialist  \n"
   ]
  },
  {
   "cell_type": "code",
   "execution_count": 1,
   "metadata": {},
   "outputs": [],
   "source": [
    "from sklearn.metrics import classification_report,confusion_matrix,accuracy_score, cohen_kappa_score\n",
    "from sklearn.model_selection import train_test_split\n",
    "from sklearn.preprocessing import LabelBinarizer\n",
    "from sklearn.tree import DecisionTreeClassifier"
   ]
  },
  {
   "cell_type": "markdown",
   "metadata": {},
   "source": [
    "## Download the dataset"
   ]
  },
  {
   "cell_type": "code",
   "execution_count": 2,
   "metadata": {},
   "outputs": [
    {
     "name": "stdout",
     "output_type": "stream",
     "text": [
      "Downloaded radio.zip\n",
      "Uzipped to /radio directory\n"
     ]
    }
   ],
   "source": [
    "import requests\n",
    "import zipfile\n",
    "r = requests.get(\"http://www.kasprowski.pl/etra2021/radio.zip\", allow_redirects=True)\n",
    "open('radio.zip', 'wb').write(r.content)\n",
    "print(\"Downloaded radio.zip\")\n",
    "with zipfile.ZipFile(\"radio.zip\",\"r\") as zip_ref:\n",
    "    zip_ref.extractall(\"radio\")\n",
    "print(\"Uzipped to /radio directory\")"
   ]
  },
  {
   "cell_type": "markdown",
   "metadata": {},
   "source": [
    "## Load samples and labels"
   ]
  },
  {
   "cell_type": "code",
   "execution_count": 3,
   "metadata": {},
   "outputs": [
    {
     "name": "stdout",
     "output_type": "stream",
     "text": [
      "shape = (611, 700, 5)\n"
     ]
    }
   ],
   "source": [
    "from keras_preprocessing.sequence import pad_sequences\n",
    "import os\n",
    "import numpy as np\n",
    "\n",
    "def load_files(indir,sequence_len=1000):\n",
    "    samples = []\n",
    "    labels = []\n",
    "    for file in os.listdir(indir):\n",
    "        sample = np.genfromtxt(os.path.join(indir, file), delimiter=',', skip_header=1)\n",
    "        if sample.shape[0]>100:\n",
    "            samples.append(sample)\n",
    "            labels.append(file[0])\n",
    "    samples = np.array(samples,dtype=object)\n",
    "    labels = np.array(labels)\n",
    "    samples = pad_sequences(samples,sequence_len)\n",
    "    samples = samples[:,:,1:] ##omit timestamp\n",
    "    return samples,labels\n",
    "\n",
    "samples,labels = load_files(\"radio\",700)\n",
    "print(\"shape = {}\".format(samples.shape))\n"
   ]
  },
  {
   "cell_type": "markdown",
   "metadata": {},
   "source": [
    "## Classify and print results"
   ]
  },
  {
   "cell_type": "code",
   "execution_count": 4,
   "metadata": {},
   "outputs": [
    {
     "name": "stdout",
     "output_type": "stream",
     "text": [
      "Classes: 3\n",
      "[[13  5 18]\n",
      " [ 6 24 21]\n",
      " [ 6 30 30]]\n",
      "              precision    recall  f1-score   support\n",
      "\n",
      "           0       0.52      0.36      0.43        36\n",
      "           1       0.41      0.47      0.44        51\n",
      "           2       0.43      0.45      0.44        66\n",
      "\n",
      "    accuracy                           0.44       153\n",
      "   macro avg       0.45      0.43      0.44       153\n",
      "weighted avg       0.45      0.44      0.44       153\n",
      "\n",
      "Accuracy Tree: 0.44\n",
      "Cohen's Kappa 0.12\n"
     ]
    }
   ],
   "source": [
    "    \n",
    "#flatten\n",
    "samples = samples.reshape(-1,samples.shape[1]*samples.shape[2])\n",
    "\n",
    "#one-hot encoding\n",
    "lb = LabelBinarizer()\n",
    "labels = lb.fit_transform(labels)\n",
    "classesNum = labels.shape[1]\n",
    "print (\"Classes: {}\".format(classesNum))\n",
    " \n",
    "#split to training and test\n",
    "(trainSamples, testSamples, trainLabels, testLabels) = train_test_split(samples, labels, test_size=0.25, random_state=42)\n",
    "   \n",
    "model = DecisionTreeClassifier()\n",
    "model.fit(trainSamples, trainLabels)    \n",
    "treeResults = model.predict(testSamples)\n",
    "print(confusion_matrix(testLabels.argmax(axis=1), treeResults.argmax(axis=1)))\n",
    "print(classification_report(testLabels.argmax(axis=1), treeResults.argmax(axis=1)))\n",
    "treeAcc = accuracy_score(testLabels.argmax(axis=1), treeResults.argmax(axis=1)) \n",
    "print(\"Accuracy Tree: {:.2f}\".format(treeAcc))\n",
    "print(\"Cohen's Kappa {:.2f}\".format(cohen_kappa_score(testLabels.argmax(axis=1), treeResults.argmax(axis=1))))"
   ]
  }
 ],
 "metadata": {
  "kernelspec": {
   "display_name": "Python 3",
   "language": "python",
   "name": "python3"
  },
  "language_info": {
   "codemirror_mode": {
    "name": "ipython",
    "version": 3
   },
   "file_extension": ".py",
   "mimetype": "text/x-python",
   "name": "python",
   "nbconvert_exporter": "python",
   "pygments_lexer": "ipython3",
   "version": "3.8.5"
  }
 },
 "nbformat": 4,
 "nbformat_minor": 4
}
