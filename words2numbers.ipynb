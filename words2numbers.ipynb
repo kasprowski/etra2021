{
 "cells": [
  {
   "cell_type": "markdown",
   "metadata": {},
   "source": [
    "### Deep Learning in the Eye Tracking World \n",
    "#### the tutorial presented during ETRA 2021 (https://etra.acm.org/2021/acceptedtutorials.html)\n",
    "#### the code downloaded from: https://github.com/kasprowski/etra2021\n",
    "@author: pawel@kasprowski.pl\n"
   ]
  },
  {
   "cell_type": "markdown",
   "metadata": {},
   "source": [
    "# Model transforming words into a number\n",
    "- input: sequence of letters\n",
    "- output: number \n",
    "\n",
    "\n",
    "Examples: \n",
    "- input: sequence 'sto' output: 100\n",
    "- input: sequence 'dwieście czternaście' output: 214\n"
   ]
  },
  {
   "cell_type": "code",
   "execution_count": 3,
   "metadata": {},
   "outputs": [],
   "source": [
    "from tensorflow.keras.layers import Dense\n",
    "from tensorflow.keras.models import Sequential\n",
    "from tensorflow.keras.layers import LSTM\n",
    "import numpy as np\n",
    "from number2word import getWords"
   ]
  },
  {
   "cell_type": "markdown",
   "metadata": {},
   "source": [
    "## Model"
   ]
  },
  {
   "cell_type": "code",
   "execution_count": 4,
   "metadata": {},
   "outputs": [
    {
     "name": "stdout",
     "output_type": "stream",
     "text": [
      "Model: \"sequential\"\n",
      "_________________________________________________________________\n",
      "Layer (type)                 Output Shape              Param #   \n",
      "=================================================================\n",
      "lstm (LSTM)                  (None, None, 128)         66560     \n",
      "_________________________________________________________________\n",
      "lstm_1 (LSTM)                (None, 128)               131584    \n",
      "_________________________________________________________________\n",
      "dense (Dense)                (None, 1)                 129       \n",
      "=================================================================\n",
      "Total params: 198,273\n",
      "Trainable params: 198,273\n",
      "Non-trainable params: 0\n",
      "_________________________________________________________________\n"
     ]
    }
   ],
   "source": [
    "model = Sequential()\n",
    "model.add(LSTM(128,input_shape=(None,1),return_sequences=True)) # sequences of singlen numbers\n",
    "model.add(LSTM(128))\n",
    "model.add(Dense(1))\n",
    "\n",
    "model.compile(loss='mean_squared_error', optimizer=\"adam\",metrics=['mae','mse'])\n",
    "num_epochs = 0\n",
    "model.summary()"
   ]
  },
  {
   "cell_type": "markdown",
   "metadata": {},
   "source": [
    "## Dataset creation"
   ]
  },
  {
   "cell_type": "markdown",
   "metadata": {},
   "source": [
    "### Helper methods"
   ]
  },
  {
   "cell_type": "code",
   "execution_count": 5,
   "metadata": {},
   "outputs": [],
   "source": [
    "# helper method, converts sequence of numbers to text\n",
    "def to_text(sample):\n",
    "    return ''.join([idx2char[int(x)] for x in sample])\n",
    "# helper method, converts text to sequence of numbers\n",
    "def to_number(words):\n",
    "    return np.array([char2idx[char] for char in words])"
   ]
  },
  {
   "cell_type": "markdown",
   "metadata": {},
   "source": [
    "### Dataset - **samples** and **labels**"
   ]
  },
  {
   "cell_type": "code",
   "execution_count": 6,
   "metadata": {},
   "outputs": [
    {
     "name": "stdout",
     "output_type": "stream",
     "text": [
      "Max len of text 27\n",
      "vocabulary (used letters) [' ', 'd', 'e', 'f', 'g', 'h', 'i', 'l', 'n', 'o', 'r', 's', 't', 'u', 'v', 'w', 'x', 'y', 'z']\n",
      "unique characters 19\n"
     ]
    }
   ],
   "source": [
    "DATASET_SIZE=200\n",
    "\n",
    "samples = []\n",
    "labels = []\n",
    "all_words = ''\n",
    "max_len = 0\n",
    "for i in range(DATASET_SIZE):\n",
    "    labels.append(i)\n",
    "    #words = lslownie(i)\n",
    "    words = getWords(i)\n",
    "    samples.append(words)\n",
    "    all_words += words\n",
    "    if len(words)>max_len: \n",
    "        max_len = len(words)\n",
    "  \n",
    "print('Max len of text',max_len)\n",
    "vocab = sorted(set(all_words))\n",
    "vocab_size = len(vocab)\n",
    "print('vocabulary (used letters)',vocab)\n",
    "print ('unique characters',vocab_size)"
   ]
  },
  {
   "cell_type": "markdown",
   "metadata": {},
   "source": [
    "#### Creating a mapping from unique characters to indices"
   ]
  },
  {
   "cell_type": "code",
   "execution_count": 7,
   "metadata": {},
   "outputs": [
    {
     "name": "stdout",
     "output_type": "stream",
     "text": [
      "char2idx:\n",
      " {' ': 0, 'd': 1, 'e': 2, 'f': 3, 'g': 4, 'h': 5, 'i': 6, 'l': 7, 'n': 8, 'o': 9, 'r': 10, 's': 11, 't': 12, 'u': 13, 'v': 14, 'w': 15, 'x': 16, 'y': 17, 'z': 18}\n",
      "idx2char\n",
      " [' ' 'd' 'e' 'f' 'g' 'h' 'i' 'l' 'n' 'o' 'r' 's' 't' 'u' 'v' 'w' 'x' 'y'\n",
      " 'z']\n"
     ]
    }
   ],
   "source": [
    "char2idx = {char:index for index, char in enumerate(vocab)}\n",
    "print('char2idx:\\n',char2idx)\n",
    "idx2char = np.array(vocab)\n",
    "print('idx2char\\n',idx2char)"
   ]
  },
  {
   "cell_type": "markdown",
   "metadata": {},
   "source": [
    "#### Convert letters to numbers using char2idx"
   ]
  },
  {
   "cell_type": "code",
   "execution_count": 8,
   "metadata": {},
   "outputs": [
    {
     "name": "stdout",
     "output_type": "stream",
     "text": [
      "one hundred twenty three    ->becomes->  [ 9  8  2  0  5 13  8  1 10  2  1  0 12 15  2  8 12 17  0 12  5 10  2  2\n",
      "  0  0]\n"
     ]
    }
   ],
   "source": [
    "samples_int = []\n",
    "for s in samples:\n",
    "    v = np.array([char2idx[char] for char in s])\n",
    "    samples_int.append(v) # different sizes!\n",
    "print(samples[123],' ->becomes-> ',samples_int[123])"
   ]
  },
  {
   "cell_type": "markdown",
   "metadata": {},
   "source": [
    "#### From list of lists to numpy - must have a fixed number of characters (30 -> max_len)"
   ]
  },
  {
   "cell_type": "code",
   "execution_count": 9,
   "metadata": {},
   "outputs": [
    {
     "name": "stdout",
     "output_type": "stream",
     "text": [
      "SAMPLES\n",
      "\n",
      " [[18.  2. 10. ...  0.  0.  0.]\n",
      " [ 9.  8.  2. ...  0.  0.  0.]\n",
      " [12. 15.  9. ...  0.  0.  0.]\n",
      " ...\n",
      " [ 9.  8.  2. ...  0.  0.  0.]\n",
      " [ 9.  8.  2. ...  0.  0.  0.]\n",
      " [ 9.  8.  2. ...  0.  0.  0.]]\n",
      "(200, 27)\n"
     ]
    }
   ],
   "source": [
    "samples = np.zeros((DATASET_SIZE,max_len))\n",
    "for i in range(len(samples_int)):\n",
    "    for j in range(len(samples_int[i])):\n",
    "        samples[i,j] = np.array(samples_int[i][j]) # all not used have '0' which is ' '\n",
    "print('SAMPLES\\n\\n',samples)\n",
    "print(samples.shape)"
   ]
  },
  {
   "cell_type": "code",
   "execution_count": 10,
   "metadata": {},
   "outputs": [
    {
     "name": "stdout",
     "output_type": "stream",
     "text": [
      "Sample (for 123):\n",
      " [[ 9.]\n",
      " [ 8.]\n",
      " [ 2.]\n",
      " [ 0.]\n",
      " [ 5.]\n",
      " [13.]\n",
      " [ 8.]\n",
      " [ 1.]\n",
      " [10.]\n",
      " [ 2.]\n",
      " [ 1.]\n",
      " [ 0.]\n",
      " [12.]\n",
      " [15.]\n",
      " [ 2.]\n",
      " [ 8.]\n",
      " [12.]\n",
      " [17.]\n",
      " [ 0.]\n",
      " [12.]\n",
      " [ 5.]\n",
      " [10.]\n",
      " [ 2.]\n",
      " [ 2.]\n",
      " [ 0.]\n",
      " [ 0.]\n",
      " [ 0.]]\n",
      "Sample decoded one hundred twenty three   \n",
      "Label (output): 123.0\n",
      "samples shape (200, 27, 1)\n",
      "labels shape (200,)\n"
     ]
    }
   ],
   "source": [
    "samples = np.expand_dims(samples,axis=2) #add the third dimension\n",
    "labels = np.array(labels,dtype=float)\n",
    "\n",
    "print(\"Sample (for 123):\\n\",samples[123])\n",
    "print(\"Sample decoded:\",to_text(samples[123]))\n",
    "print(\"Label (output):\",labels[123])\n",
    "\n",
    "print('samples shape',samples.shape)\n",
    "print('labels shape',labels.shape)"
   ]
  },
  {
   "cell_type": "code",
   "execution_count": 11,
   "metadata": {},
   "outputs": [
    {
     "name": "stdout",
     "output_type": "stream",
     "text": [
      "Training samples: 100  test samples 100\n"
     ]
    }
   ],
   "source": [
    "TRAINING_SIZE = .5\n",
    "from sklearn.model_selection import train_test_split\n",
    "(trainSamples, testSamples, trainLabels, testLabels) = train_test_split(samples, labels,train_size=TRAINING_SIZE, random_state=1)\n",
    "print('Training samples:',len(trainSamples),' test samples',len(testSamples))"
   ]
  },
  {
   "cell_type": "code",
   "execution_count": 13,
   "metadata": {},
   "outputs": [
    {
     "name": "stdout",
     "output_type": "stream",
     "text": [
      "Training with 100 samples 100 epochs and batch_size= 25\n",
      "\n",
      "0/10 Epochs: 200 - loss=3299.996, loss improvement=1343.468\n",
      "text => [predicted value] error=[error]\n",
      "fifty five                  =>  81.44 error = 26.44\n",
      "one hundred forty six       =>  81.44 error = 64.56\n",
      "one hundred sixteen         =>  81.44 error = 34.56\n",
      "fifty two                   =>  81.44 error = 29.44\n",
      "one hundred seven           =>  81.44 error = 25.56\n",
      "fifty nine                  =>  81.44 error = 22.44\n",
      "one hundred                 =>  81.44 error = 18.56\n",
      "one hundred eighty seven    =>  81.44 error = 105.56\n",
      "one hundred twenty five     =>  81.44 error = 43.56\n",
      "seven                       =>  81.44 error = 74.44\n",
      "Mean error = 51.63133\n",
      "\n",
      "1/10 Epochs: 300 - loss=3111.068, loss improvement=184.271\n",
      "text => [predicted value] error=[error]\n",
      "sixty eight                 =>  92.05 error = 24.05\n",
      "forty two                   =>  92.05 error = 50.05\n",
      "one hundred fifty three     =>  92.05 error = 60.95\n",
      "one hundred ninety eight    =>  92.05 error = 105.95\n",
      "one hundred forty one       =>  92.05 error = 48.95\n",
      "one hundred five            =>  92.05 error = 12.95\n",
      "thirty                      =>  92.05 error = 62.05\n",
      "twenty four                 =>  92.05 error = 68.05\n",
      "one hundred eighty nine     =>  92.05 error = 96.95\n",
      "one hundred ninety five     =>  92.05 error = 102.95\n",
      "Mean error = 50.276356\n",
      "\n",
      "2/10 Epochs: 400 - loss=3099.119, loss improvement=11.483\n",
      "text => [predicted value] error=[error]\n",
      "one hundred twenty six      =>  94.95 error = 31.05\n",
      "sixty six                   =>  94.95 error = 28.95\n",
      "one hundred sixty five      =>  94.95 error = 70.05\n",
      "one hundred thirteen        =>  94.95 error = 18.05\n",
      "one hundred ninety two      =>  94.95 error = 97.05\n",
      "one hundred sixty           =>  94.95 error = 65.05\n",
      "one hundred fifty one       =>  94.95 error = 56.05\n",
      "fifty four                  =>  94.95 error = 40.95\n",
      "seventy one                 =>  94.95 error = 23.95\n",
      "one hundred thirty eight    =>  94.95 error = 43.05\n",
      "Mean error = 50.102463\n",
      "\n",
      "3/10 Epochs: 500 - loss=3022.368, loss improvement=76.830\n",
      "text => [predicted value] error=[error]\n",
      "eighty one                  =>  92.34 error = 11.34\n",
      "sixty nine                  =>  92.34 error = 23.34\n",
      "one hundred seventy one     =>  94.41 error = 76.59\n",
      "one hundred seventy two     =>  94.41 error = 77.59\n",
      "one hundred fifteen         =>  93.39 error = 21.61\n",
      "one hundred                 =>  92.34 error = 7.66\n",
      "one hundred ninety five     =>  94.41 error = 100.59\n",
      "twenty                      =>  92.33 error = 72.33\n",
      "sixty two                   =>  92.34 error = 30.34\n",
      "one hundred fifty eight     =>  94.41 error = 63.59\n",
      "Mean error = 49.35929\n",
      "\n",
      "4/10 Epochs: 600 - loss=424.574, loss improvement=2574.044\n",
      "text => [predicted value] error=[error]\n",
      "thirty three                =>  27.59 error = 5.41\n",
      "one hundred ninety one      =>  129.81 error = 61.19\n",
      "one hundred ninety five     =>  129.81 error = 65.19\n",
      "thirty two                  =>  30.89 error = 1.11\n",
      "thirty nine                 =>  28.41 error = 10.59\n",
      "ninety                      =>  60.83 error = 29.17\n",
      "zero                        =>  5.40 error = 5.40\n",
      "nineteen                    =>  19.92 error = 0.92\n",
      "eighty five                 =>  85.77 error = 0.77\n",
      "twenty six                  =>  26.16 error = 0.16\n",
      "Mean error = 17.975487\n",
      "\n",
      "5/10 Epochs: 700 - loss=194.192, loss improvement=229.925\n",
      "text => [predicted value] error=[error]\n",
      "one hundred twenty six      =>  145.27 error = 19.27\n",
      "one hundred sixty four      =>  145.27 error = 18.73\n",
      "one hundred thirty five     =>  145.26 error = 10.26\n",
      "seventy four                =>  77.95 error = 3.95\n",
      "twelve                      =>  4.37 error = 7.63\n",
      "forty four                  =>  64.62 error = 20.62\n",
      "one hundred fifty           =>  144.98 error = 5.02\n",
      "one hundred twenty nine     =>  145.22 error = 16.22\n",
      "ninety three                =>  92.34 error = 0.66\n",
      "twenty two                  =>  24.11 error = 2.11\n",
      "Mean error = 12.158444\n",
      "\n",
      "6/10 Epochs: 800 - loss=169.145, loss improvement=24.911\n",
      "text => [predicted value] error=[error]\n",
      "one hundred ninety three    =>  150.48 error = 42.52\n",
      "forty nine                  =>  47.28 error = 1.72\n",
      "sixty nine                  =>  61.10 error = 7.90\n",
      "one hundred forty one       =>  139.69 error = 1.31\n",
      "one hundred fifty nine      =>  146.55 error = 12.45\n",
      "thirty six                  =>  27.77 error = 8.23\n",
      "forty                       =>  51.42 error = 11.42\n",
      "one hundred eighty          =>  150.77 error = 29.23\n",
      "one hundred ninety eight    =>  150.11 error = 47.89\n",
      "one hundred eighty eight    =>  150.80 error = 37.20\n",
      "Mean error = 11.049677\n",
      "\n",
      "7/10 Epochs: 900 - loss=129.181, loss improvement=35.611\n",
      "text => [predicted value] error=[error]\n",
      "one hundred seventeen       =>  142.94 error = 25.94\n",
      "twenty five                 =>  21.44 error = 3.56\n",
      "seventeen                   =>  48.40 error = 31.40\n",
      "ninety two                  =>  86.61 error = 5.39\n",
      "ninety three                =>  87.96 error = 5.04\n",
      "eleven                      =>  11.47 error = 0.47\n",
      "one hundred seventy three   =>  155.42 error = 17.58\n",
      "twenty nine                 =>  21.41 error = 7.59\n",
      "zero                        =>  3.80 error = 3.80\n",
      "twenty nine                 =>  21.41 error = 7.59\n",
      "Mean error = 10.176906\n",
      "\n",
      "8/10 Epochs: 1000 - loss=51.817, loss improvement=78.657\n",
      "text => [predicted value] error=[error]\n",
      "thirty four                 =>  37.98 error = 3.98\n",
      "ninety two                  =>  92.82 error = 0.82\n",
      "one hundred twenty five     =>  126.58 error = 1.58\n",
      "two                         =>  3.95 error = 1.95\n",
      "one hundred one             =>  103.51 error = 2.51\n",
      "four                        =>  33.98 error = 29.98\n",
      "ninety three                =>  92.69 error = 0.31\n",
      "one hundred thirty four     =>  138.36 error = 4.36\n",
      "thirty three                =>  36.57 error = 3.57\n",
      "one hundred sixteen         =>  123.01 error = 7.01\n",
      "Mean error = 6.785934\n",
      "\n",
      "9/10 Epochs: 1100 - loss=43.650, loss improvement= 7.888\n",
      "text => [predicted value] error=[error]\n",
      "twenty seven                =>  24.22 error = 2.78\n",
      "one hundred thirty six      =>  134.55 error = 1.45\n",
      "thirty four                 =>  35.75 error = 1.75\n",
      "one hundred seventy one     =>  168.20 error = 2.80\n",
      "twenty one                  =>  22.17 error = 1.17\n",
      "one hundred seventy one     =>  168.20 error = 2.80\n",
      "eighty seven                =>  84.88 error = 2.12\n",
      "seven                       =>  7.00 error = 0.00\n",
      "one hundred ninety five     =>  168.11 error = 26.89\n",
      "one hundred sixty three     =>  164.52 error = 1.52\n",
      "Mean error = 6.121855\n",
      "Done\n"
     ]
    }
   ],
   "source": [
    "EPOCHS=100\n",
    "BATCH_SIZE = int(len(trainSamples)/4)\n",
    "print('Training with',len(trainSamples),'samples',EPOCHS,'epochs and batch_size=',BATCH_SIZE)\n",
    "for x in range(10):\n",
    "    H = model.fit(trainSamples, trainLabels, epochs=EPOCHS,verbose=0,batch_size=BATCH_SIZE)\n",
    "    num_epochs += EPOCHS\n",
    "    print(\"\\n{}/10 Epochs: {} - loss={:6.3f}, loss improvement={:6.3f}\".\n",
    "          format(x, num_epochs,H.history['loss'][-1], H.history['loss'][0]-H.history['loss'][-1]))\n",
    "    check_model()\n",
    "print(\"Done\")"
   ]
  },
  {
   "cell_type": "code",
   "execution_count": 14,
   "metadata": {},
   "outputs": [
    {
     "name": "stdout",
     "output_type": "stream",
     "text": [
      "text => [predicted value] error=[error]\n",
      "0 zero                        => 0.26 error = 0.26 [T]\n",
      "1 one                         => 2.52 error = 1.52 [T]\n",
      "2 two                         => 1.65 error = 0.35 [T]\n",
      "3 three                       => 4.04 error = 1.04 [T]\n",
      "4 four                        => 35.98 error = 31.98 \n",
      "5 five                        => 9.30 error = 4.30 \n",
      "6 six                         => 7.07 error = 1.07 [T]\n",
      "7 seven                       => 7.00 error = 0.00 [T]\n",
      "8 eight                       => 8.73 error = 0.73 [T]\n",
      "9 nine                        => 7.32 error = 1.68 [T]\n",
      "10 ten                         => 9.31 error = 0.69 [T]\n",
      "11 eleven                      => 10.02 error = 0.98 \n",
      "12 twelve                      => 1.37 error = 10.63 \n",
      "13 thirteen                    => 10.08 error = 2.92 \n",
      "14 fourteen                    => 49.76 error = 35.76 \n",
      "15 fifteen                     => 15.17 error = 0.17 [T]\n",
      "16 sixteen                     => 44.82 error = 28.82 \n",
      "17 seventeen                   => 53.09 error = 36.09 \n",
      "18 eighteen                    => 38.74 error = 20.74 \n",
      "19 nineteen                    => 14.83 error = 4.17 \n",
      "20 twenty                      => 20.22 error = 0.22 [T]\n",
      "21 twenty one                  => 22.17 error = 1.17 [T]\n",
      "22 twenty two                  => 23.57 error = 1.57 [T]\n",
      "23 twenty three                => 23.52 error = 0.52 [T]\n",
      "24 twenty four                 => 24.44 error = 0.44 [T]\n",
      "25 twenty five                 => 25.03 error = 0.03 [T]\n",
      "26 twenty six                  => 24.12 error = 1.88 [T]\n",
      "27 twenty seven                => 24.22 error = 2.78 \n",
      "28 twenty eight                => 28.93 error = 0.93 \n",
      "29 twenty nine                 => 23.32 error = 5.68 \n",
      "30 thirty                      => 29.26 error = 0.74 [T]\n",
      "31 thirty one                  => 35.92 error = 4.92 \n",
      "32 thirty two                  => 30.62 error = 1.38 [T]\n",
      "33 thirty three                => 35.16 error = 2.16 \n",
      "34 thirty four                 => 35.75 error = 1.75 \n",
      "35 thirty five                 => 38.20 error = 3.20 \n",
      "36 thirty six                  => 30.63 error = 5.37 \n",
      "37 thirty seven                => 34.69 error = 2.31 [T]\n",
      "38 thirty eight                => 43.32 error = 5.32 \n",
      "39 thirty nine                 => 37.95 error = 1.05 \n",
      "40 forty                       => 45.62 error = 5.62 \n",
      "41 forty one                   => 41.23 error = 0.23 [T]\n",
      "42 forty two                   => 40.31 error = 1.69 \n",
      "43 forty three                 => 44.45 error = 1.45 [T]\n",
      "44 forty four                  => 67.78 error = 23.78 \n",
      "45 forty five                  => 57.35 error = 12.35 \n",
      "46 forty six                   => 44.58 error = 1.42 [T]\n",
      "47 forty seven                 => 52.58 error = 5.58 \n",
      "48 forty eight                 => 58.37 error = 10.37 \n",
      "49 forty nine                  => 47.90 error = 1.10 [T]\n",
      "50 fifty                       => 49.19 error = 0.81 [T]\n",
      "51 fifty one                   => 54.44 error = 3.44 \n",
      "52 fifty two                   => 50.83 error = 1.17 [T]\n",
      "53 fifty three                 => 56.14 error = 3.14 \n",
      "54 fifty four                  => 60.80 error = 6.80 \n",
      "55 fifty five                  => 55.03 error = 0.03 [T]\n",
      "56 fifty six                   => 54.39 error = 1.61 \n",
      "57 fifty seven                 => 56.62 error = 0.38 [T]\n",
      "58 fifty eight                 => 61.60 error = 3.60 \n",
      "59 fifty nine                  => 55.24 error = 3.76 \n",
      "60 sixty                       => 59.81 error = 0.19 [T]\n",
      "61 sixty one                   => 61.70 error = 0.70 [T]\n",
      "62 sixty two                   => 62.02 error = 0.02 [T]\n",
      "63 sixty three                 => 62.43 error = 0.57 [T]\n",
      "64 sixty four                  => 64.62 error = 0.62 [T]\n",
      "65 sixty five                  => 63.71 error = 1.29 [T]\n",
      "66 sixty six                   => 60.61 error = 5.39 \n",
      "67 sixty seven                 => 63.20 error = 3.80 \n",
      "68 sixty eight                 => 67.60 error = 0.40 [T]\n",
      "69 sixty nine                  => 61.38 error = 7.62 \n",
      "70 seventy                     => 68.19 error = 1.81 [T]\n",
      "71 seventy one                 => 72.96 error = 1.96 [T]\n",
      "72 seventy two                 => 72.24 error = 0.24 [T]\n",
      "73 seventy three               => 74.13 error = 1.13 \n",
      "74 seventy four                => 74.19 error = 0.19 [T]\n",
      "75 seventy five                => 74.26 error = 0.74 [T]\n",
      "76 seventy six                 => 72.79 error = 3.21 [T]\n",
      "77 seventy seven               => 74.68 error = 2.32 [T]\n",
      "78 seventy eight               => 76.53 error = 1.47 \n",
      "79 seventy nine                => 74.69 error = 4.31 [T]\n",
      "80 eighty                      => 78.80 error = 1.20 [T]\n",
      "81 eighty one                  => 83.62 error = 2.62 \n",
      "82 eighty two                  => 84.24 error = 2.24 \n",
      "83 eighty three                => 84.63 error = 1.63 [T]\n",
      "84 eighty four                 => 86.26 error = 2.26 \n",
      "85 eighty five                 => 83.79 error = 1.21 [T]\n",
      "86 eighty six                  => 83.62 error = 2.38 [T]\n",
      "87 eighty seven                => 84.88 error = 2.12 [T]\n",
      "88 eighty eight                => 87.60 error = 0.40 [T]\n",
      "89 eighty nine                 => 84.07 error = 4.93 \n",
      "90 ninety                      => 78.32 error = 11.68 \n",
      "91 ninety one                  => 89.97 error = 1.03 [T]\n",
      "92 ninety two                  => 89.83 error = 2.17 [T]\n",
      "93 ninety three                => 92.55 error = 0.45 \n",
      "94 ninety four                 => 97.66 error = 3.66 \n",
      "95 ninety five                 => 90.57 error = 4.43 \n",
      "96 ninety six                  => 92.37 error = 3.63 [T]\n",
      "97 ninety seven                => 91.14 error = 5.86 \n",
      "98 ninety eight                => 90.19 error = 7.81 \n",
      "99 ninety nine                 => 91.68 error = 7.32 \n",
      "100 one hundred                 => 97.79 error = 2.21 [T]\n",
      "101 one hundred one             => 102.34 error = 1.34 [T]\n",
      "102 one hundred two             => 105.28 error = 3.28 \n",
      "103 one hundred three           => 106.37 error = 3.37 \n",
      "104 one hundred four            => 105.43 error = 1.43 [T]\n",
      "105 one hundred five            => 101.59 error = 3.41 \n",
      "106 one hundred six             => 102.12 error = 3.88 \n",
      "107 one hundred seven           => 108.55 error = 1.55 \n",
      "108 one hundred eight           => 106.89 error = 1.11 \n",
      "109 one hundred nine            => 105.59 error = 3.41 [T]\n",
      "110 one hundred ten             => 102.26 error = 7.74 \n",
      "111 one hundred eleven          => 109.86 error = 1.14 [T]\n",
      "112 one hundred twelve          => 110.95 error = 1.05 [T]\n",
      "113 one hundred thirteen        => 120.64 error = 7.64 \n",
      "114 one hundred fourteen        => 122.40 error = 8.40 \n",
      "115 one hundred fifteen         => 113.57 error = 1.43 [T]\n",
      "116 one hundred sixteen         => 119.67 error = 3.67 \n",
      "117 one hundred seventeen       => 143.04 error = 26.04 \n",
      "118 one hundred eighteen        => 117.57 error = 0.43 \n",
      "119 one hundred nineteen        => 122.30 error = 3.30 \n",
      "120 one hundred twenty          => 117.74 error = 2.26 \n",
      "121 one hundred twenty one      => 123.14 error = 2.14 [T]\n",
      "122 one hundred twenty two      => 129.38 error = 7.38 \n",
      "123 one hundred twenty three    => 124.44 error = 1.44 \n",
      "124 one hundred twenty four     => 138.07 error = 14.07 \n",
      "125 one hundred twenty five     => 126.03 error = 1.03 [T]\n",
      "126 one hundred twenty six      => 125.95 error = 0.05 [T]\n",
      "127 one hundred twenty seven    => 127.53 error = 0.53 \n",
      "128 one hundred twenty eight    => 128.35 error = 0.35 [T]\n",
      "129 one hundred twenty nine     => 123.73 error = 5.27 [T]\n",
      "130 one hundred thirty          => 130.19 error = 0.19 [T]\n",
      "131 one hundred thirty one      => 133.59 error = 2.59 [T]\n",
      "132 one hundred thirty two      => 135.89 error = 3.89 \n",
      "133 one hundred thirty three    => 134.01 error = 1.01 [T]\n",
      "134 one hundred thirty four     => 136.08 error = 2.08 [T]\n",
      "135 one hundred thirty five     => 134.85 error = 0.15 [T]\n",
      "136 one hundred thirty six      => 134.55 error = 1.45 \n",
      "137 one hundred thirty seven    => 134.30 error = 2.70 [T]\n",
      "138 one hundred thirty eight    => 137.78 error = 0.22 \n",
      "139 one hundred thirty nine     => 134.38 error = 4.62 [T]\n",
      "140 one hundred forty           => 138.40 error = 1.60 [T]\n",
      "141 one hundred forty one       => 142.01 error = 1.01 [T]\n",
      "142 one hundred forty two       => 141.80 error = 0.20 [T]\n",
      "143 one hundred forty three     => 144.81 error = 1.81 [T]\n",
      "144 one hundred forty four      => 145.48 error = 1.48 [T]\n",
      "145 one hundred forty five      => 145.22 error = 0.22 [T]\n",
      "146 one hundred forty six       => 143.63 error = 2.37 [T]\n",
      "147 one hundred forty seven     => 147.42 error = 0.42 [T]\n",
      "148 one hundred forty eight     => 147.30 error = 0.70 \n",
      "149 one hundred forty nine      => 144.16 error = 4.84 [T]\n",
      "150 one hundred fifty           => 167.62 error = 17.62 [T]\n",
      "151 one hundred fifty one       => 168.17 error = 17.17 [T]\n",
      "152 one hundred fifty two       => 168.27 error = 16.27 [T]\n",
      "153 one hundred fifty three     => 168.24 error = 15.24 \n",
      "154 one hundred fifty four      => 168.27 error = 14.27 \n",
      "155 one hundred fifty five      => 168.19 error = 13.19 [T]\n",
      "156 one hundred fifty six       => 168.25 error = 12.25 [T]\n",
      "157 one hundred fifty seven     => 168.25 error = 11.25 [T]\n",
      "158 one hundred fifty eight     => 168.17 error = 10.17 \n",
      "159 one hundred fifty nine      => 168.20 error = 9.20 \n",
      "160 one hundred sixty           => 160.98 error = 0.98 [T]\n",
      "161 one hundred sixty one       => 162.29 error = 1.29 \n",
      "162 one hundred sixty two       => 155.11 error = 6.89 \n",
      "163 one hundred sixty three     => 164.52 error = 1.52 [T]\n",
      "164 one hundred sixty four      => 166.51 error = 2.51 [T]\n",
      "165 one hundred sixty five      => 166.58 error = 1.58 \n",
      "166 one hundred sixty six       => 163.06 error = 2.94 \n",
      "167 one hundred sixty seven     => 166.60 error = 0.40 [T]\n",
      "168 one hundred sixty eight     => 167.70 error = 0.30 \n",
      "169 one hundred sixty nine      => 165.10 error = 3.90 [T]\n",
      "170 one hundred seventy         => 168.12 error = 1.88 [T]\n",
      "171 one hundred seventy one     => 168.20 error = 2.80 \n",
      "172 one hundred seventy two     => 168.28 error = 3.72 \n",
      "173 one hundred seventy three   => 168.25 error = 4.75 \n",
      "174 one hundred seventy four    => 168.26 error = 5.74 \n",
      "175 one hundred seventy five    => 168.23 error = 6.77 [T]\n",
      "176 one hundred seventy six     => 168.25 error = 7.75 \n",
      "177 one hundred seventy seven   => 168.27 error = 8.73 \n",
      "178 one hundred seventy eight   => 168.26 error = 9.74 [T]\n",
      "179 one hundred seventy nine    => 168.22 error = 10.78 \n",
      "180 one hundred eighty          => 167.87 error = 12.13 [T]\n",
      "181 one hundred eighty one      => 168.23 error = 12.77 \n",
      "182 one hundred eighty two      => 168.31 error = 13.69 [T]\n",
      "183 one hundred eighty three    => 168.28 error = 14.72 \n",
      "184 one hundred eighty four     => 168.30 error = 15.70 \n",
      "185 one hundred eighty five     => 168.24 error = 16.76 \n",
      "186 one hundred eighty six      => 168.29 error = 17.71 \n",
      "187 one hundred eighty seven    => 168.28 error = 18.72 \n",
      "188 one hundred eighty eight    => 168.22 error = 19.78 [T]\n",
      "189 one hundred eighty nine     => 168.25 error = 20.75 \n",
      "190 one hundred ninety          => 168.01 error = 21.99 [T]\n",
      "191 one hundred ninety one      => 168.09 error = 22.91 \n",
      "192 one hundred ninety two      => 168.28 error = 23.72 [T]\n",
      "193 one hundred ninety three    => 168.19 error = 24.81 \n",
      "194 one hundred ninety four     => 168.18 error = 25.82 \n",
      "195 one hundred ninety five     => 168.11 error = 26.89 \n",
      "196 one hundred ninety six      => 168.21 error = 27.79 [T]\n",
      "197 one hundred ninety seven    => 168.20 error = 28.80 \n",
      "198 one hundred ninety eight    => 168.15 error = 29.85 \n",
      "199 one hundred ninety nine     => 168.10 error = 30.90 \n",
      "Mean error = 6.121855\n"
     ]
    },
    {
     "data": {
      "text/plain": [
       "6.121855"
      ]
     },
     "execution_count": 14,
     "metadata": {},
     "output_type": "execute_result"
    }
   ],
   "source": [
    "import random\n",
    "\n",
    "def check_model(verbose=0,how_many=10):\n",
    "    pred = model.predict(samples)\n",
    "    print('text => [predicted value] error=[error]')\n",
    "    error = []\n",
    "    for i in range(len(pred)):\n",
    "        res = samples[i]\n",
    "        error.append(abs(i-pred[i]))\n",
    "        if verbose==1:\n",
    "            train = ''\n",
    "            if i in trainLabels: train='[T]'\n",
    "            print(i,to_text(res),'=> {:.2f} error = {:.2f}'.format(pred[i,0],abs(i-pred[i,0])),train)\n",
    "    if verbose<1: # if not verbose just display 'how_many' random samples\n",
    "        for i in range(how_many):        \n",
    "            x = random.randrange(DATASET_SIZE)\n",
    "            res = samples[x]\n",
    "            print(to_text(res),'=>  {:.2f} error = {:.2f}'.format(pred[x,0],abs(x-pred[x,0])))      \n",
    "    print('Mean error =',np.mean(error))        \n",
    "    return np.mean(error)\n",
    "check_model(1)"
   ]
  },
  {
   "cell_type": "code",
   "execution_count": 13,
   "metadata": {},
   "outputs": [
    {
     "data": {
      "text/plain": [
       "array([[-0.23773912]], dtype=float32)"
      ]
     },
     "execution_count": 13,
     "metadata": {},
     "output_type": "execute_result"
    }
   ],
   "source": [
    "x = to_number('two hundred seventy two') \n",
    "#              xxxxxxxxxxxxxxxxxxxxxxxxxxxxx\n",
    "x = np.expand_dims(x,axis=1)\n",
    "x = np.expand_dims(x,axis=0)\n",
    "model.predict(x)"
   ]
  },
  {
   "cell_type": "code",
   "execution_count": null,
   "metadata": {},
   "outputs": [],
   "source": [
    "model.save('model_words2numbers.h5')"
   ]
  }
 ],
 "metadata": {
  "kernelspec": {
   "display_name": "Python 3",
   "language": "python",
   "name": "python3"
  },
  "language_info": {
   "codemirror_mode": {
    "name": "ipython",
    "version": 3
   },
   "file_extension": ".py",
   "mimetype": "text/x-python",
   "name": "python",
   "nbconvert_exporter": "python",
   "pygments_lexer": "ipython3",
   "version": "3.8.5"
  }
 },
 "nbformat": 4,
 "nbformat_minor": 4
}
